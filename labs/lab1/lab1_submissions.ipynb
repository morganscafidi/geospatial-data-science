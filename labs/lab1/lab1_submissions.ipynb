{
 "cells": [
  {
   "cell_type": "code",
   "execution_count": 1,
   "id": "cd7dc0ba",
   "metadata": {},
   "outputs": [
   ],
   "source": [
    "import numpy as np\n",
    "a = 1\n",
    "b = 3\n",
    "c = np.multiply(a, b)\n",
    "print(c)"
   ]
  },
  {
   "cell_type": "markdown",
   "id": "f1e896ac",
   "metadata": {},
   "source": [
    "[![Graduation Cap](/assets/images/361-3614718_download-png-transparent-clipart-graduation-cap.png \"Cap\")](http://clipart-library.com/newhp/361-3614718_download-png-transparent-clipart-graduation-cap.png)"
   ]
  },
  {
   "cell_type": "markdown",
   "id": "4fced3d7",
   "metadata": {},
   "source": [
    "**A Graduation Cap** *Can't wait to graduate* [Here's a link to the image](http://clipart-library.com/newhp/361-3614718_download-png-transparent-clipart-graduation-cap.png)."
   ]
  },
  {
   "cell_type": "code",
   "execution_count": null,
   "id": "f3c57175",
   "metadata": {},
   "outputs": [],
   "source": []
  }
 ],
 "metadata": {
  "kernelspec": {
   "display_name": "Python 3 (ipykernel)",
   "language": "python",
   "name": "python3"
  },
  "language_info": {
   "codemirror_mode": {
    "name": "ipython",
    "version": 3
   },
   "file_extension": ".py",
   "mimetype": "text/x-python",
   "name": "python",
   "nbconvert_exporter": "python",
   "pygments_lexer": "ipython3",
   "version": "3.8.12"
  }
 },
 "nbformat": 4,
 "nbformat_minor": 5
}
