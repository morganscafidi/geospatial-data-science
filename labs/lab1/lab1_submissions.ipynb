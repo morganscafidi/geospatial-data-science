{
 "cells": [
  {
   "cell_type": "code",
   "execution_count": 1,
   "id": "cd7dc0ba",
   "metadata": {},
   "outputs": [
    {
     "ename": "NameError",
     "evalue": "name 'lab1_submission' is not defined",
     "output_type": "error",
     "traceback": [
      "\u001b[0;31m---------------------------------------------------------------------------\u001b[0m",
      "\u001b[0;31mNameError\u001b[0m                                 Traceback (most recent call last)",
      "\u001b[0;32m/var/folders/gd/3sl4tp3x5w5df_4m2_6tc__80000gn/T/ipykernel_7385/4279455383.py\u001b[0m in \u001b[0;36m<module>\u001b[0;34m\u001b[0m\n\u001b[0;32m----> 1\u001b[0;31m \u001b[0mlab1_submission\u001b[0m\u001b[0;34m.\u001b[0m\u001b[0mipynb\u001b[0m\u001b[0;34m\u001b[0m\u001b[0;34m\u001b[0m\u001b[0m\n\u001b[0m",
      "\u001b[0;31mNameError\u001b[0m: name 'lab1_submission' is not defined"
     ]
    }
   ],
   "source": [
    "import numpy as np\n",
    "a = 1\n",
    "b = 3\n",
    "c = np.multiply(a, b)\n",
    "print(c)"
   ]
  },
  {
   "cell_type": "markdown",
   "id": "1ad16ebe",
   "metadata": {},
   "source": [
    "[![Graduation Cap](/assets/images/361-3614718_download-png-transparent-clipart-graduation-cap.png \"Cap\")](http://clipart-library.com/newhp/361-3614718_download-png-transparent-clipart-graduation-cap.png)"
   ]
  },
  {
   "cell_type": "markdown",
   "id": "224aa080",
   "metadata": {},
   "source": [
    "**A Graduation Cap** *Can't wait to graduate* [Here's a link to the image](http://clipart-library.com/newhp/361-3614718_download-png-transparent-clipart-graduation-cap.png)."
   ]
  },
  {
   "cell_type": "code",
   "execution_count": null,
   "id": "71f50a46",
   "metadata": {},
   "outputs": [],
   "source": []
  }
 ],
 "metadata": {
  "kernelspec": {
   "display_name": "Python 3 (ipykernel)",
   "language": "python",
   "name": "python3"
  },
  "language_info": {
   "codemirror_mode": {
    "name": "ipython",
    "version": 3
   },
   "file_extension": ".py",
   "mimetype": "text/x-python",
   "name": "python",
   "nbconvert_exporter": "python",
   "pygments_lexer": "ipython3",
   "version": "3.8.12"
  }
 },
 "nbformat": 4,
 "nbformat_minor": 5
}
