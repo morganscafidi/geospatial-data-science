{
 "cells": [
  {
   "cell_type": "code",
   "execution_count": 1,
   "id": "31b30d7c",
   "metadata": {},
   "outputs": [],
   "source": [
    "# Import modules\n",
    "import pandas as pd\n",
    "import geopandas as gpd\n",
    "import matplotlib.pyplot as plt"
   ]
  },
  {
   "cell_type": "code",
   "execution_count": 8,
   "id": "27159a8c",
   "metadata": {},
   "outputs": [],
   "source": [
    "# Define data filepath\n",
    "pathname = '/Users/morganscafidi/Documents/GitHub/geospatial-data-science/labs/lab2/Wildfire'\n",
    "\n",
    "# Read data\n",
    "df = gpd.read_file('/Users/morganscafidi/Documents/GitHub/geospatial-data-science/labs/lab2/Wildfire/' + 'or_1992-2018.shp') # 'df' stands for DataFrame"
   ]
  },
  {
   "cell_type": "code",
   "execution_count": 9,
   "id": "50d05d5c",
   "metadata": {},
   "outputs": [
    {
     "data": {
      "text/plain": [
       "Index(['OBJECTID', 'FOD_ID', 'FPA_ID', 'SOURCE_SYS', 'SOURCE_S_1',\n",
       "       'NWCG_REPOR', 'NWCG_REP_1', 'NWCG_REP_2', 'SOURCE_REP', 'SOURCE_R_1',\n",
       "       'LOCAL_FIRE', 'LOCAL_INCI', 'FIRE_CODE', 'FIRE_NAME', 'ICS_209_PL',\n",
       "       'ICS_209__1', 'MTBS_ID', 'MTBS_FIRE_', 'COMPLEX_NA', 'FIRE_YEAR',\n",
       "       'DISCOVERY_', 'DISCOVER_1', 'DISCOVER_2', 'NWCG_CAUSE', 'NWCG_GENER',\n",
       "       'NWCG_CAU_1', 'CONT_DATE', 'CONT_DOY', 'CONT_TIME', 'FIRE_SIZE',\n",
       "       'FIRE_SIZE_', 'LATITUDE', 'LONGITUDE', 'OWNER_DESC', 'STATE', 'COUNTY',\n",
       "       'FIPS_CODE', 'FIPS_NAME', 'geometry'],\n",
       "      dtype='object')"
      ]
     },
     "execution_count": 9,
     "metadata": {},
     "output_type": "execute_result"
    }
   ],
   "source": [
    "# Find column labels\n",
    "df.columns"
   ]
  },
  {
   "cell_type": "code",
   "execution_count": 10,
   "id": "c1b785ba",
   "metadata": {},
   "outputs": [
    {
     "data": {
      "text/plain": [
       "OBJECTID       float64\n",
       "FOD_ID           int64\n",
       "FPA_ID          object\n",
       "SOURCE_SYS      object\n",
       "SOURCE_S_1      object\n",
       "NWCG_REPOR      object\n",
       "NWCG_REP_1      object\n",
       "NWCG_REP_2      object\n",
       "SOURCE_REP      object\n",
       "SOURCE_R_1      object\n",
       "LOCAL_FIRE      object\n",
       "LOCAL_INCI      object\n",
       "FIRE_CODE       object\n",
       "FIRE_NAME       object\n",
       "ICS_209_PL      object\n",
       "ICS_209__1      object\n",
       "MTBS_ID         object\n",
       "MTBS_FIRE_      object\n",
       "COMPLEX_NA      object\n",
       "FIRE_YEAR        int64\n",
       "DISCOVERY_      object\n",
       "DISCOVER_1       int64\n",
       "DISCOVER_2      object\n",
       "NWCG_CAUSE      object\n",
       "NWCG_GENER      object\n",
       "NWCG_CAU_1      object\n",
       "CONT_DATE       object\n",
       "CONT_DOY       float64\n",
       "CONT_TIME       object\n",
       "FIRE_SIZE      float64\n",
       "FIRE_SIZE_      object\n",
       "LATITUDE       float64\n",
       "LONGITUDE      float64\n",
       "OWNER_DESC      object\n",
       "STATE           object\n",
       "COUNTY          object\n",
       "FIPS_CODE       object\n",
       "FIPS_NAME       object\n",
       "geometry      geometry\n",
       "dtype: object"
      ]
     },
     "execution_count": 10,
     "metadata": {},
     "output_type": "execute_result"
    }
   ],
   "source": [
    "# Find columns datatypes\n",
    "df.dtypes"
   ]
  },
  {
   "cell_type": "code",
   "execution_count": 11,
   "id": "181e3953",
   "metadata": {},
   "outputs": [
    {
     "data": {
      "text/plain": [
       "count     67042.000000\n",
       "mean        144.878795\n",
       "std        3815.600420\n",
       "min           0.010000\n",
       "25%           0.100000\n",
       "50%           0.100000\n",
       "75%           0.330000\n",
       "max      558198.300000\n",
       "Name: FIRE_SIZE, dtype: float64"
      ]
     },
     "execution_count": 11,
     "metadata": {},
     "output_type": "execute_result"
    }
   ],
   "source": [
    "# Get some stats for numeric columns\n",
    "df['FIRE_SIZE'].describe()"
   ]
  },
  {
   "cell_type": "code",
   "execution_count": 12,
   "id": "65191167",
   "metadata": {},
   "outputs": [],
   "source": [
    "# Filter fires larger than 100 acres\n",
    "df_large = df[df['FIRE_SIZE'] > 100]"
   ]
  },
  {
   "cell_type": "code",
   "execution_count": 13,
   "id": "c774db07",
   "metadata": {},
   "outputs": [
    {
     "data": {
      "text/plain": [
       "5077.047927022739"
      ]
     },
     "execution_count": 13,
     "metadata": {},
     "output_type": "execute_result"
    }
   ],
   "source": [
    "# Find mean size of wildfires larger than 100 acres\n",
    "df_large['FIRE_SIZE'].mean()"
   ]
  },
  {
   "cell_type": "code",
   "execution_count": 14,
   "id": "02699664",
   "metadata": {},
   "outputs": [
    {
     "data": {
      "text/plain": [
       "array(['Human', 'Natural', 'Missing data/not specified/undetermined'],\n",
       "      dtype=object)"
      ]
     },
     "execution_count": 14,
     "metadata": {},
     "output_type": "execute_result"
    }
   ],
   "source": [
    "# Find the different cause of large wildfires\n",
    "df_large['NWCG_CAUSE'].unique()"
   ]
  },
  {
   "cell_type": "code",
   "execution_count": 15,
   "id": "4c776eba",
   "metadata": {},
   "outputs": [],
   "source": [
    "# Filter fires that were caused by natural causes\n",
    "df_large_natural = df_large[df_large['NWCG_CAUSE'] == 'Natural']"
   ]
  },
  {
   "cell_type": "code",
   "execution_count": 16,
   "id": "8f9fe848",
   "metadata": {},
   "outputs": [
    {
     "data": {
      "text/plain": [
       "56       2008/07/02 00:00:00.000\n",
       "89       2000/07/22 00:00:00.000\n",
       "95       2007/08/31 00:00:00.000\n",
       "96       2003/06/29 00:00:00.000\n",
       "109      2007/07/13 00:00:00.000\n",
       "                  ...           \n",
       "67007    2017/08/29 00:00:00.000\n",
       "67008    2011/09/15 00:00:00.000\n",
       "67014    2014/09/16 00:00:00.000\n",
       "67017    2013/08/07 00:00:00.000\n",
       "67022    2016/08/17 00:00:00.000\n",
       "Name: DISCOVERY_, Length: 1164, dtype: object"
      ]
     },
     "execution_count": 16,
     "metadata": {},
     "output_type": "execute_result"
    }
   ],
   "source": [
    "# Find date of discovery\n",
    "df_large_natural['DISCOVERY_']"
   ]
  },
  {
   "cell_type": "code",
   "execution_count": 17,
   "id": "a625a9f1",
   "metadata": {},
   "outputs": [
    {
     "data": {
      "text/plain": [
       "56      2008-07-02\n",
       "89      2000-07-22\n",
       "95      2007-08-31\n",
       "96      2003-06-29\n",
       "109     2007-07-13\n",
       "           ...    \n",
       "67007   2017-08-29\n",
       "67008   2011-09-15\n",
       "67014   2014-09-16\n",
       "67017   2013-08-07\n",
       "67022   2016-08-17\n",
       "Name: DISCOVERY_, Length: 1164, dtype: datetime64[ns]"
      ]
     },
     "execution_count": 17,
     "metadata": {},
     "output_type": "execute_result"
    }
   ],
   "source": [
    "datetime = pd.to_datetime(df_large_natural['DISCOVERY_'], format='%Y/%m/%d %H:%M:%S.%f')\n",
    "datetime"
   ]
  },
  {
   "cell_type": "code",
   "execution_count": 47,
   "id": "550ed6d3",
   "metadata": {},
   "outputs": [],
   "source": [
    "df_large_natural['datetime'] = datetime # Sorry about the warning, extra credit if someone can fix this!"
   ]
  },
  {
   "cell_type": "code",
   "execution_count": 19,
   "id": "ea6db6f6",
   "metadata": {},
   "outputs": [],
   "source": [
    "# Filter large, natural wildfires in 2016\n",
    "df_large_natural_2016 = df_large_natural[df_large_natural['datetime'].dt.year == 2016]"
   ]
  },
  {
   "cell_type": "code",
   "execution_count": 20,
   "id": "7783da92",
   "metadata": {},
   "outputs": [],
   "source": [
    "# Find number of large fires in each year (i.e. number of rows in each year)\n",
    "large_fire_count = df_large.iloc[:,0].groupby(df_large_natural['datetime'].dt.year).count()"
   ]
  },
  {
   "cell_type": "code",
   "execution_count": 21,
   "id": "33ff3432",
   "metadata": {},
   "outputs": [],
   "source": [
    "# Find acres of wildfire for each year\n",
    "large_fire_area = df_large['FIRE_SIZE'].groupby(df_large_natural['datetime'].dt.year).sum()"
   ]
  },
  {
   "cell_type": "code",
   "execution_count": 22,
   "id": "b014429c",
   "metadata": {},
   "outputs": [
    {
     "data": {
      "image/png": "[encoded data removed]",
      "text/plain": [
       "<Figure size 720x576 with 2 Axes>"
      ]
     },
     "metadata": {
      "needs_background": "light"
     },
     "output_type": "display_data"
    }
   ],
   "source": [
    "# Plot number and acres of wildfire for each year\n",
    "fig, (ax1, ax2) = plt.subplots(nrows=2, ncols=1, figsize=(10,8), sharex=True)\n",
    "ax1.plot(large_fire_count, lw=2)\n",
    "ax1.set_ylabel('Number of fires (>100 acres)', fontsize=14)\n",
    "ax1.tick_params(axis='x', labelsize=14)\n",
    "ax1.tick_params(axis='y', labelsize=14)\n",
    "ax1.grid(ls='dotted', lw=2, alpha=0.5)\n",
    "\n",
    "ax2.plot(large_fire_area, lw=2)\n",
    "ax2.set_ylabel('Area of fires (>100 acres)', fontsize=14)\n",
    "ax2.tick_params(axis='x', labelsize=14)\n",
    "ax2.tick_params(axis='y', labelsize=14)\n",
    "ax2.grid(ls='dotted', lw=2, alpha=0.5)"
   ]
  },
  {
   "cell_type": "code",
   "execution_count": 23,
   "id": "0e950905",
   "metadata": {},
   "outputs": [],
   "source": [
    "df_large = df[df['FIRE_SIZE'] > 50]"
   ]
  },
  {
   "cell_type": "code",
   "execution_count": 35,
   "id": "af62aa74",
   "metadata": {},
   "outputs": [
    {
     "data": {
      "text/plain": [
       "count              45898\n",
       "unique                45\n",
       "top       Jackson County\n",
       "freq                4284\n",
       "Name: FIPS_NAME, dtype: object"
      ]
     },
     "execution_count": 35,
     "metadata": {},
     "output_type": "execute_result"
    }
   ],
   "source": [
    "df['FIPS_NAME'].describe()"
   ]
  },
  {
   "cell_type": "code",
   "execution_count": 36,
   "id": "7b5c5cf6",
   "metadata": {},
   "outputs": [
    {
     "data": {
      "text/plain": [
       "count               1615\n",
       "unique                39\n",
       "top       Malheur County\n",
       "freq                 264\n",
       "Name: FIPS_NAME, dtype: object"
      ]
     },
     "execution_count": 36,
     "metadata": {},
     "output_type": "execute_result"
    }
   ],
   "source": [
    "df_large['FIPS_NAME'].describe()"
   ]
  },
  {
   "cell_type": "code",
   "execution_count": 37,
   "id": "61803e48",
   "metadata": {},
   "outputs": [],
   "source": [
    "df_large = df[df['FIRE_SIZE'] > 50]"
   ]
  },
  {
   "cell_type": "code",
   "execution_count": 38,
   "id": "49635be7",
   "metadata": {},
   "outputs": [],
   "source": [
    "df_large_natural = df_large[df_large['NWCG_CAUSE'] == 'Human']"
   ]
  },
  {
   "cell_type": "code",
   "execution_count": 39,
   "id": "5d89e3f8",
   "metadata": {},
   "outputs": [
    {
     "data": {
      "text/plain": [
       "count               1615\n",
       "unique                39\n",
       "top       Malheur County\n",
       "freq                 264\n",
       "Name: FIPS_NAME, dtype: object"
      ]
     },
     "execution_count": 39,
     "metadata": {},
     "output_type": "execute_result"
    }
   ],
   "source": [
    "df_large['FIPS_NAME',].describe()"
   ]
  },
  {
   "cell_type": "code",
   "execution_count": 40,
   "id": "31bac238",
   "metadata": {},
   "outputs": [],
   "source": [
    "df_large = df[df['FIRE_SIZE'] > 50]"
   ]
  },
  {
   "cell_type": "code",
   "execution_count": 41,
   "id": "d26b8e2c",
   "metadata": {},
   "outputs": [],
   "source": [
    "df_large= df_large[df_large['NWCG_CAUSE'] == 'Human']"
   ]
  },
  {
   "cell_type": "code",
   "execution_count": 42,
   "id": "432d84b6",
   "metadata": {},
   "outputs": [
    {
     "data": {
      "text/plain": [
       "count              627\n",
       "unique              38\n",
       "top       Wasco County\n",
       "freq                71\n",
       "Name: FIPS_NAME, dtype: object"
      ]
     },
     "execution_count": 42,
     "metadata": {},
     "output_type": "execute_result"
    }
   ],
   "source": [
    "df_large['FIPS_NAME'].describe()"
   ]
  },
  {
   "cell_type": "code",
   "execution_count": 43,
   "id": "e7769853",
   "metadata": {},
   "outputs": [],
   "source": [
    "df_large = df[df['FIRE_SIZE'] > 100]"
   ]
  },
  {
   "cell_type": "code",
   "execution_count": 44,
   "id": "2ee01bea",
   "metadata": {},
   "outputs": [],
   "source": [
    "df_large= df_large[df_large['NWCG_CAUSE'] == 'Natural']"
   ]
  },
  {
   "cell_type": "code",
   "execution_count": 45,
   "id": "b1f1d9cc",
   "metadata": {},
   "outputs": [
    {
     "data": {
      "text/plain": [
       "count                793\n",
       "unique                28\n",
       "top       Malheur County\n",
       "freq                 183\n",
       "Name: FIPS_NAME, dtype: object"
      ]
     },
     "execution_count": 45,
     "metadata": {},
     "output_type": "execute_result"
    }
   ],
   "source": [
    "df_large['FIPS_NAME'].describe()"
   ]
  },
  {
   "cell_type": "code",
   "execution_count": null,
   "id": "74dcdaf9",
   "metadata": {},
   "outputs": [],
   "source": [
    "df_large['FIPS_NAME'].describe()"
   ]
  },
  {
   "cell_type": "code",
   "execution_count": 137,
   "id": "99cedc35",
   "metadata": {},
   "outputs": [],
   "source": [
    "df_large = df[df['FIRE_SIZE'] > 100]"
   ]
  },
  {
   "cell_type": "code",
   "execution_count": 138,
   "id": "5e1a7672",
   "metadata": {},
   "outputs": [],
   "source": [
    "df_large_natural = df_large[df_large['NWCG_CAUSE'] == 'Natural']"
   ]
  },
  {
   "cell_type": "code",
   "execution_count": 139,
   "id": "f462f0ab",
   "metadata": {},
   "outputs": [
    {
     "data": {
      "text/plain": [
       "(1164,)"
      ]
     },
     "execution_count": 139,
     "metadata": {},
     "output_type": "execute_result"
    }
   ],
   "source": [
    "df_large_natural['CONT_DATE'].shape"
   ]
  },
  {
   "cell_type": "code",
   "execution_count": 63,
   "id": "16e04fdd",
   "metadata": {},
   "outputs": [
    {
     "data": {
      "text/html": [
       "<div>\n",
       "<style scoped>\n",
       "    .dataframe tbody tr th:only-of-type {\n",
       "        vertical-align: middle;\n",
       "    }\n",
       "\n",
       "    .dataframe tbody tr th {\n",
       "        vertical-align: top;\n",
       "    }\n",
       "\n",
       "    .dataframe thead th {\n",
       "        text-align: right;\n",
       "    }\n",
       "</style>\n",
       "<table border=\"1\" class=\"dataframe\">\n",
       "  <thead>\n",
       "    <tr style=\"text-align: right;\">\n",
       "      <th></th>\n",
       "      <th>OBJECTID</th>\n",
       "      <th>FOD_ID</th>\n",
       "      <th>FPA_ID</th>\n",
       "      <th>SOURCE_SYS</th>\n",
       "      <th>SOURCE_S_1</th>\n",
       "      <th>NWCG_REPOR</th>\n",
       "      <th>NWCG_REP_1</th>\n",
       "      <th>NWCG_REP_2</th>\n",
       "      <th>SOURCE_REP</th>\n",
       "      <th>SOURCE_R_1</th>\n",
       "      <th>...</th>\n",
       "      <th>FIRE_SIZE</th>\n",
       "      <th>FIRE_SIZE_</th>\n",
       "      <th>LATITUDE</th>\n",
       "      <th>LONGITUDE</th>\n",
       "      <th>OWNER_DESC</th>\n",
       "      <th>STATE</th>\n",
       "      <th>COUNTY</th>\n",
       "      <th>FIPS_CODE</th>\n",
       "      <th>FIPS_NAME</th>\n",
       "      <th>geometry</th>\n",
       "    </tr>\n",
       "  </thead>\n",
       "  <tbody>\n",
       "    <tr>\n",
       "      <th>0</th>\n",
       "      <td>1586162.0</td>\n",
       "      <td>201604465</td>\n",
       "      <td>SFO-2012ORODF1272303413</td>\n",
       "      <td>NONFED</td>\n",
       "      <td>ST-NASF</td>\n",
       "      <td>ST/C&amp;L</td>\n",
       "      <td>USORORS</td>\n",
       "      <td>Oregon Department of Forestry Salem Headquarters</td>\n",
       "      <td>ORODF</td>\n",
       "      <td>Oregon Department of Forestry</td>\n",
       "      <td>...</td>\n",
       "      <td>0.50</td>\n",
       "      <td>B</td>\n",
       "      <td>42.238610</td>\n",
       "      <td>-124.394720</td>\n",
       "      <td>PRIVATE</td>\n",
       "      <td>OR</td>\n",
       "      <td>Curry</td>\n",
       "      <td>41015</td>\n",
       "      <td>Curry County</td>\n",
       "      <td>POINT (-124.39472 42.23861)</td>\n",
       "    </tr>\n",
       "    <tr>\n",
       "      <th>1</th>\n",
       "      <td>1216678.0</td>\n",
       "      <td>1475171</td>\n",
       "      <td>W-610834</td>\n",
       "      <td>FED</td>\n",
       "      <td>DOI-WFMI</td>\n",
       "      <td>BLM</td>\n",
       "      <td>USORCBD</td>\n",
       "      <td>Coos Bay District</td>\n",
       "      <td>ORCBD</td>\n",
       "      <td>Coos Bay District</td>\n",
       "      <td>...</td>\n",
       "      <td>0.10</td>\n",
       "      <td>A</td>\n",
       "      <td>42.251900</td>\n",
       "      <td>-124.378900</td>\n",
       "      <td>PRIVATE</td>\n",
       "      <td>OR</td>\n",
       "      <td>Curry</td>\n",
       "      <td>41015</td>\n",
       "      <td>Curry County</td>\n",
       "      <td>POINT (-124.37890 42.25190)</td>\n",
       "    </tr>\n",
       "    <tr>\n",
       "      <th>2</th>\n",
       "      <td>1826690.0</td>\n",
       "      <td>300247467</td>\n",
       "      <td>SFO-2015ORODF1572310116</td>\n",
       "      <td>NONFED</td>\n",
       "      <td>ST-NASF</td>\n",
       "      <td>ST/C&amp;L</td>\n",
       "      <td>USORORS</td>\n",
       "      <td>Oregon Department of Forestry Salem Headquarters</td>\n",
       "      <td>ORODF</td>\n",
       "      <td>Oregon Department of Forestry</td>\n",
       "      <td>...</td>\n",
       "      <td>0.37</td>\n",
       "      <td>B</td>\n",
       "      <td>42.254170</td>\n",
       "      <td>-124.392500</td>\n",
       "      <td>PRIVATE</td>\n",
       "      <td>OR</td>\n",
       "      <td>Curry</td>\n",
       "      <td>41015</td>\n",
       "      <td>Curry County</td>\n",
       "      <td>POINT (-124.39250 42.25417)</td>\n",
       "    </tr>\n",
       "    <tr>\n",
       "      <th>3</th>\n",
       "      <td>1986235.0</td>\n",
       "      <td>400114024</td>\n",
       "      <td>SFO-2017ORODF1772303518</td>\n",
       "      <td>NONFED</td>\n",
       "      <td>ST-NASF</td>\n",
       "      <td>ST/C&amp;L</td>\n",
       "      <td>USORORS</td>\n",
       "      <td>Oregon Department of Forestry Salem Headquarters</td>\n",
       "      <td>ORODF</td>\n",
       "      <td>Oregon Department of Forestry</td>\n",
       "      <td>...</td>\n",
       "      <td>0.01</td>\n",
       "      <td>A</td>\n",
       "      <td>42.267920</td>\n",
       "      <td>-124.399720</td>\n",
       "      <td>STATE</td>\n",
       "      <td>OR</td>\n",
       "      <td>Curry</td>\n",
       "      <td>41015</td>\n",
       "      <td>Curry County</td>\n",
       "      <td>POINT (-124.39972 42.26792)</td>\n",
       "    </tr>\n",
       "    <tr>\n",
       "      <th>4</th>\n",
       "      <td>1145371.0</td>\n",
       "      <td>1397051</td>\n",
       "      <td>ODF-86539</td>\n",
       "      <td>NONFED</td>\n",
       "      <td>ST-ORORS</td>\n",
       "      <td>ST/C&amp;L</td>\n",
       "      <td>USOR723S</td>\n",
       "      <td>Gold Beach Unit</td>\n",
       "      <td>ORODF-723</td>\n",
       "      <td>Gold Beach Unit</td>\n",
       "      <td>...</td>\n",
       "      <td>148.00</td>\n",
       "      <td>D</td>\n",
       "      <td>42.273060</td>\n",
       "      <td>-124.402500</td>\n",
       "      <td>STATE</td>\n",
       "      <td>OR</td>\n",
       "      <td>8</td>\n",
       "      <td>41015</td>\n",
       "      <td>Curry County</td>\n",
       "      <td>POINT (-124.40250 42.27306)</td>\n",
       "    </tr>\n",
       "    <tr>\n",
       "      <th>...</th>\n",
       "      <td>...</td>\n",
       "      <td>...</td>\n",
       "      <td>...</td>\n",
       "      <td>...</td>\n",
       "      <td>...</td>\n",
       "      <td>...</td>\n",
       "      <td>...</td>\n",
       "      <td>...</td>\n",
       "      <td>...</td>\n",
       "      <td>...</td>\n",
       "      <td>...</td>\n",
       "      <td>...</td>\n",
       "      <td>...</td>\n",
       "      <td>...</td>\n",
       "      <td>...</td>\n",
       "      <td>...</td>\n",
       "      <td>...</td>\n",
       "      <td>...</td>\n",
       "      <td>...</td>\n",
       "      <td>...</td>\n",
       "      <td>...</td>\n",
       "    </tr>\n",
       "    <tr>\n",
       "      <th>67037</th>\n",
       "      <td>2073814.0</td>\n",
       "      <td>400333029</td>\n",
       "      <td>SFO-2018ORODF1858206518</td>\n",
       "      <td>NONFED</td>\n",
       "      <td>ST-NASF</td>\n",
       "      <td>ST/C&amp;L</td>\n",
       "      <td>USORORS</td>\n",
       "      <td>Oregon Department of Forestry Salem Headquarters</td>\n",
       "      <td>ORODF</td>\n",
       "      <td>Oregon Department of Forestry</td>\n",
       "      <td>...</td>\n",
       "      <td>0.01</td>\n",
       "      <td>A</td>\n",
       "      <td>44.714970</td>\n",
       "      <td>-122.492360</td>\n",
       "      <td>STATE</td>\n",
       "      <td>OR</td>\n",
       "      <td>Linn</td>\n",
       "      <td>41043</td>\n",
       "      <td>Linn County</td>\n",
       "      <td>POINT (-122.49236 44.71497)</td>\n",
       "    </tr>\n",
       "    <tr>\n",
       "      <th>67038</th>\n",
       "      <td>2073938.0</td>\n",
       "      <td>400333176</td>\n",
       "      <td>SFO-2018ORODF1858200719</td>\n",
       "      <td>NONFED</td>\n",
       "      <td>ST-NASF</td>\n",
       "      <td>ST/C&amp;L</td>\n",
       "      <td>USORORS</td>\n",
       "      <td>Oregon Department of Forestry Salem Headquarters</td>\n",
       "      <td>ORODF</td>\n",
       "      <td>Oregon Department of Forestry</td>\n",
       "      <td>...</td>\n",
       "      <td>0.01</td>\n",
       "      <td>A</td>\n",
       "      <td>44.714970</td>\n",
       "      <td>-122.492280</td>\n",
       "      <td>STATE</td>\n",
       "      <td>OR</td>\n",
       "      <td>Linn</td>\n",
       "      <td>41043</td>\n",
       "      <td>Linn County</td>\n",
       "      <td>POINT (-122.49228 44.71497)</td>\n",
       "    </tr>\n",
       "    <tr>\n",
       "      <th>67039</th>\n",
       "      <td>2073818.0</td>\n",
       "      <td>400333033</td>\n",
       "      <td>SFO-2018ORODF1858206618</td>\n",
       "      <td>NONFED</td>\n",
       "      <td>ST-NASF</td>\n",
       "      <td>ST/C&amp;L</td>\n",
       "      <td>USORORS</td>\n",
       "      <td>Oregon Department of Forestry Salem Headquarters</td>\n",
       "      <td>ORODF</td>\n",
       "      <td>Oregon Department of Forestry</td>\n",
       "      <td>...</td>\n",
       "      <td>0.01</td>\n",
       "      <td>A</td>\n",
       "      <td>44.715030</td>\n",
       "      <td>-122.492390</td>\n",
       "      <td>STATE</td>\n",
       "      <td>OR</td>\n",
       "      <td>Linn</td>\n",
       "      <td>41043</td>\n",
       "      <td>Linn County</td>\n",
       "      <td>POINT (-122.49239 44.71503)</td>\n",
       "    </tr>\n",
       "    <tr>\n",
       "      <th>67040</th>\n",
       "      <td>2068578.0</td>\n",
       "      <td>400326229</td>\n",
       "      <td>SFO-2018ORODF1858203019</td>\n",
       "      <td>NONFED</td>\n",
       "      <td>ST-NASF</td>\n",
       "      <td>ST/C&amp;L</td>\n",
       "      <td>USORORS</td>\n",
       "      <td>Oregon Department of Forestry Salem Headquarters</td>\n",
       "      <td>ORODF</td>\n",
       "      <td>Oregon Department of Forestry</td>\n",
       "      <td>...</td>\n",
       "      <td>9.50</td>\n",
       "      <td>B</td>\n",
       "      <td>44.679140</td>\n",
       "      <td>-122.798750</td>\n",
       "      <td>PRIVATE</td>\n",
       "      <td>OR</td>\n",
       "      <td>Linn</td>\n",
       "      <td>41043</td>\n",
       "      <td>Linn County</td>\n",
       "      <td>POINT (-122.79875 44.67914)</td>\n",
       "    </tr>\n",
       "    <tr>\n",
       "      <th>67041</th>\n",
       "      <td>2047979.0</td>\n",
       "      <td>400302282</td>\n",
       "      <td>FS-6877239</td>\n",
       "      <td>FED</td>\n",
       "      <td>FS-FIRESTAT</td>\n",
       "      <td>FS</td>\n",
       "      <td>USORWIF</td>\n",
       "      <td>Willamette National Forest</td>\n",
       "      <td>0618</td>\n",
       "      <td>Willamette National Forest</td>\n",
       "      <td>...</td>\n",
       "      <td>0.10</td>\n",
       "      <td>A</td>\n",
       "      <td>44.699722</td>\n",
       "      <td>-122.186944</td>\n",
       "      <td>USFS</td>\n",
       "      <td>OR</td>\n",
       "      <td>043</td>\n",
       "      <td>41043</td>\n",
       "      <td>Linn County</td>\n",
       "      <td>POINT (-122.18694 44.69972)</td>\n",
       "    </tr>\n",
       "  </tbody>\n",
       "</table>\n",
       "<p>67042 rows × 39 columns</p>\n",
       "</div>"
      ],
      "text/plain": [
       "        OBJECTID     FOD_ID                   FPA_ID SOURCE_SYS   SOURCE_S_1  \\\n",
       "0      1586162.0  201604465  SFO-2012ORODF1272303413     NONFED      ST-NASF   \n",
       "1      1216678.0    1475171                 W-610834        FED     DOI-WFMI   \n",
       "2      1826690.0  300247467  SFO-2015ORODF1572310116     NONFED      ST-NASF   \n",
       "3      1986235.0  400114024  SFO-2017ORODF1772303518     NONFED      ST-NASF   \n",
       "4      1145371.0    1397051                ODF-86539     NONFED     ST-ORORS   \n",
       "...          ...        ...                      ...        ...          ...   \n",
       "67037  2073814.0  400333029  SFO-2018ORODF1858206518     NONFED      ST-NASF   \n",
       "67038  2073938.0  400333176  SFO-2018ORODF1858200719     NONFED      ST-NASF   \n",
       "67039  2073818.0  400333033  SFO-2018ORODF1858206618     NONFED      ST-NASF   \n",
       "67040  2068578.0  400326229  SFO-2018ORODF1858203019     NONFED      ST-NASF   \n",
       "67041  2047979.0  400302282               FS-6877239        FED  FS-FIRESTAT   \n",
       "\n",
       "      NWCG_REPOR NWCG_REP_1                                        NWCG_REP_2  \\\n",
       "0         ST/C&L    USORORS  Oregon Department of Forestry Salem Headquarters   \n",
       "1            BLM    USORCBD                                 Coos Bay District   \n",
       "2         ST/C&L    USORORS  Oregon Department of Forestry Salem Headquarters   \n",
       "3         ST/C&L    USORORS  Oregon Department of Forestry Salem Headquarters   \n",
       "4         ST/C&L   USOR723S                                   Gold Beach Unit   \n",
       "...          ...        ...                                               ...   \n",
       "67037     ST/C&L    USORORS  Oregon Department of Forestry Salem Headquarters   \n",
       "67038     ST/C&L    USORORS  Oregon Department of Forestry Salem Headquarters   \n",
       "67039     ST/C&L    USORORS  Oregon Department of Forestry Salem Headquarters   \n",
       "67040     ST/C&L    USORORS  Oregon Department of Forestry Salem Headquarters   \n",
       "67041         FS    USORWIF                        Willamette National Forest   \n",
       "\n",
       "      SOURCE_REP                     SOURCE_R_1  ... FIRE_SIZE FIRE_SIZE_  \\\n",
       "0          ORODF  Oregon Department of Forestry  ...      0.50          B   \n",
       "1          ORCBD              Coos Bay District  ...      0.10          A   \n",
       "2          ORODF  Oregon Department of Forestry  ...      0.37          B   \n",
       "3          ORODF  Oregon Department of Forestry  ...      0.01          A   \n",
       "4      ORODF-723                Gold Beach Unit  ...    148.00          D   \n",
       "...          ...                            ...  ...       ...        ...   \n",
       "67037      ORODF  Oregon Department of Forestry  ...      0.01          A   \n",
       "67038      ORODF  Oregon Department of Forestry  ...      0.01          A   \n",
       "67039      ORODF  Oregon Department of Forestry  ...      0.01          A   \n",
       "67040      ORODF  Oregon Department of Forestry  ...      9.50          B   \n",
       "67041       0618     Willamette National Forest  ...      0.10          A   \n",
       "\n",
       "        LATITUDE   LONGITUDE OWNER_DESC STATE COUNTY FIPS_CODE     FIPS_NAME  \\\n",
       "0      42.238610 -124.394720    PRIVATE    OR  Curry     41015  Curry County   \n",
       "1      42.251900 -124.378900    PRIVATE    OR  Curry     41015  Curry County   \n",
       "2      42.254170 -124.392500    PRIVATE    OR  Curry     41015  Curry County   \n",
       "3      42.267920 -124.399720      STATE    OR  Curry     41015  Curry County   \n",
       "4      42.273060 -124.402500      STATE    OR      8     41015  Curry County   \n",
       "...          ...         ...        ...   ...    ...       ...           ...   \n",
       "67037  44.714970 -122.492360      STATE    OR   Linn     41043   Linn County   \n",
       "67038  44.714970 -122.492280      STATE    OR   Linn     41043   Linn County   \n",
       "67039  44.715030 -122.492390      STATE    OR   Linn     41043   Linn County   \n",
       "67040  44.679140 -122.798750    PRIVATE    OR   Linn     41043   Linn County   \n",
       "67041  44.699722 -122.186944       USFS    OR    043     41043   Linn County   \n",
       "\n",
       "                          geometry  \n",
       "0      POINT (-124.39472 42.23861)  \n",
       "1      POINT (-124.37890 42.25190)  \n",
       "2      POINT (-124.39250 42.25417)  \n",
       "3      POINT (-124.39972 42.26792)  \n",
       "4      POINT (-124.40250 42.27306)  \n",
       "...                            ...  \n",
       "67037  POINT (-122.49236 44.71497)  \n",
       "67038  POINT (-122.49228 44.71497)  \n",
       "67039  POINT (-122.49239 44.71503)  \n",
       "67040  POINT (-122.79875 44.67914)  \n",
       "67041  POINT (-122.18694 44.69972)  \n",
       "\n",
       "[67042 rows x 39 columns]"
      ]
     },
     "execution_count": 63,
     "metadata": {},
     "output_type": "execute_result"
    }
   ],
   "source": [
    "df"
   ]
  },
  {
   "cell_type": "code",
   "execution_count": 64,
   "id": "d93ce8f4",
   "metadata": {},
   "outputs": [],
   "source": [
    "df_large = df[df['FIRE_SIZE'] > 200]"
   ]
  },
  {
   "cell_type": "code",
   "execution_count": 65,
   "id": "49108a66",
   "metadata": {},
   "outputs": [],
   "source": [
    "df_large= df_large[df_large['NWCG_CAUSE'] == 'Missing data/not specified/undetermined']"
   ]
  },
  {
   "cell_type": "code",
   "execution_count": 66,
   "id": "90bf90a6",
   "metadata": {},
   "outputs": [
    {
     "data": {
      "text/plain": [
       "count    1.300000e+01\n",
       "mean     2.193693e+08\n",
       "std      1.866062e+08\n",
       "min      3.781230e+05\n",
       "25%      1.500145e+07\n",
       "50%      2.017856e+08\n",
       "75%      4.003898e+08\n",
       "max      4.003898e+08\n",
       "Name: FOD_ID, dtype: float64"
      ]
     },
     "execution_count": 66,
     "metadata": {},
     "output_type": "execute_result"
    }
   ],
   "source": [
    "df_large['FOD_ID'].describe()"
   ]
  },
  {
   "cell_type": "code",
   "execution_count": 67,
   "id": "04cfce43",
   "metadata": {},
   "outputs": [],
   "source": [
    "df_large = df[df['FIRE_SIZE'] > 200]"
   ]
  },
  {
   "cell_type": "code",
   "execution_count": 68,
   "id": "455a7a16",
   "metadata": {},
   "outputs": [],
   "source": [
    "df_large= df_large[df_large['NWCG_CAUSE'] == 'Missing data/not specified/undetermined']"
   ]
  },
  {
   "cell_type": "code",
   "execution_count": 134,
   "id": "89f9feff",
   "metadata": {},
   "outputs": [
    {
     "data": {
      "text/plain": [
       "(13,)"
      ]
     },
     "execution_count": 134,
     "metadata": {},
     "output_type": "execute_result"
    }
   ],
   "source": [
    "df_large['OBJECTID'].shape"
   ]
  },
  {
   "cell_type": "code",
   "execution_count": 78,
   "id": "139d8967",
   "metadata": {},
   "outputs": [
    {
     "data": {
      "text/plain": [
       "23600.0"
      ]
     },
     "execution_count": 78,
     "metadata": {},
     "output_type": "execute_result"
    }
   ],
   "source": [
    "df_large['FIRE_SIZE'].max ()"
   ]
  },
  {
   "cell_type": "code",
   "execution_count": 79,
   "id": "a046d31b",
   "metadata": {},
   "outputs": [
    {
     "data": {
      "text/plain": [
       "<bound method NDFrame._add_numeric_operations.<locals>.max of 190        660.0\n",
       "9755     23600.0\n",
       "9871       500.0\n",
       "11524      717.0\n",
       "13028      800.0\n",
       "41888      310.0\n",
       "45288      800.0\n",
       "51464      241.0\n",
       "56054      397.0\n",
       "60018      633.0\n",
       "60853     1548.0\n",
       "63516      700.0\n",
       "66793     1007.0\n",
       "Name: FIRE_SIZE, dtype: float64>"
      ]
     },
     "execution_count": 79,
     "metadata": {},
     "output_type": "execute_result"
    }
   ],
   "source": [
    "df_large['FIRE_SIZE'].max"
   ]
  },
  {
   "cell_type": "code",
   "execution_count": 83,
   "id": "11a7b47c",
   "metadata": {},
   "outputs": [
    {
     "data": {
      "text/plain": [
       "23600.0"
      ]
     },
     "execution_count": 83,
     "metadata": {},
     "output_type": "execute_result"
    }
   ],
   "source": [
    "df_large['FIRE_SIZE'].max()"
   ]
  },
  {
   "cell_type": "code",
   "execution_count": 85,
   "id": "66d26c54",
   "metadata": {},
   "outputs": [
    {
     "data": {
      "text/plain": [
       "<bound method NDFrame.describe of 190      JUNIPER BLUFFS\n",
       "9755      SEALE 1045 RN\n",
       "9871           ANTELOPE\n",
       "11524             MECCA\n",
       "13028       LONG BRANCH\n",
       "41888       SPRUCE LAKE\n",
       "45288        LOST CREEK\n",
       "51464     SAINT PATRICK\n",
       "56054     LOBSTER CREEK\n",
       "60018        DEER RIDGE\n",
       "60853        DEER CREEK\n",
       "63516          HORSEFLY\n",
       "66793            RIFFLE\n",
       "Name: FIRE_NAME, dtype: object>"
      ]
     },
     "execution_count": 85,
     "metadata": {},
     "output_type": "execute_result"
    }
   ],
   "source": [
    "df_large['FIRE_NAME'].describe"
   ]
  },
  {
   "cell_type": "code",
   "execution_count": 86,
   "id": "77d5f6ee",
   "metadata": {},
   "outputs": [
    {
     "data": {
      "text/plain": [
       "<bound method NDFrame.describe of 190       Umatilla County\n",
       "9755       Gilliam County\n",
       "9871                 None\n",
       "11524    Jefferson County\n",
       "13028        Baker County\n",
       "41888      Klamath County\n",
       "45288                None\n",
       "51464         Lake County\n",
       "56054        Curry County\n",
       "60018      Jackson County\n",
       "60853    Josephine County\n",
       "63516                None\n",
       "66793                None\n",
       "Name: FIPS_NAME, dtype: object>"
      ]
     },
     "execution_count": 86,
     "metadata": {},
     "output_type": "execute_result"
    }
   ],
   "source": [
    "df_large['FIPS_NAME'].describe"
   ]
  },
  {
   "cell_type": "code",
   "execution_count": 88,
   "id": "27fc6476",
   "metadata": {},
   "outputs": [
    {
     "data": {
      "text/plain": [
       "<bound method NDFrame.describe of 190      2016/09/12 00:00:00.000\n",
       "9755     2018/08/17 00:00:00.000\n",
       "9871     2000/08/08 00:00:00.000\n",
       "11524    2018/07/02 00:00:00.000\n",
       "13028    2018/09/20 00:00:00.000\n",
       "41888    2017/10/01 00:00:00.000\n",
       "45288    2000/08/11 00:00:00.000\n",
       "51464    2012/09/12 00:00:00.000\n",
       "56054    2018/07/01 00:00:00.000\n",
       "60018    2009/09/21 00:00:00.000\n",
       "60853    2005/08/25 00:00:00.000\n",
       "63516    2003/06/09 00:00:00.000\n",
       "66793    2013/09/16 00:00:00.000\n",
       "Name: DISCOVERY_, dtype: object>"
      ]
     },
     "execution_count": 88,
     "metadata": {},
     "output_type": "execute_result"
    }
   ],
   "source": [
    "df_large['DISCOVERY_'].describe"
   ]
  },
  {
   "cell_type": "code",
   "execution_count": 89,
   "id": "163a4f8e",
   "metadata": {},
   "outputs": [
    {
     "data": {
      "text/plain": [
       "count                          13\n",
       "unique                         13\n",
       "top       2016/09/12 00:00:00.000\n",
       "freq                            1\n",
       "Name: DISCOVERY_, dtype: object"
      ]
     },
     "execution_count": 89,
     "metadata": {},
     "output_type": "execute_result"
    }
   ],
   "source": [
    "df_large['DISCOVERY_'].describe()"
   ]
  },
  {
   "cell_type": "code",
   "execution_count": 90,
   "id": "14441588",
   "metadata": {},
   "outputs": [
    {
     "data": {
      "text/html": [
       "<div>\n",
       "<style scoped>\n",
       "    .dataframe tbody tr th:only-of-type {\n",
       "        vertical-align: middle;\n",
       "    }\n",
       "\n",
       "    .dataframe tbody tr th {\n",
       "        vertical-align: top;\n",
       "    }\n",
       "\n",
       "    .dataframe thead th {\n",
       "        text-align: right;\n",
       "    }\n",
       "</style>\n",
       "<table border=\"1\" class=\"dataframe\">\n",
       "  <thead>\n",
       "    <tr style=\"text-align: right;\">\n",
       "      <th></th>\n",
       "      <th>DISCOVERY_</th>\n",
       "      <th>FIPS_NAME</th>\n",
       "      <th>FIRE_NAME</th>\n",
       "    </tr>\n",
       "  </thead>\n",
       "  <tbody>\n",
       "    <tr>\n",
       "      <th>count</th>\n",
       "      <td>13</td>\n",
       "      <td>9</td>\n",
       "      <td>13</td>\n",
       "    </tr>\n",
       "    <tr>\n",
       "      <th>unique</th>\n",
       "      <td>13</td>\n",
       "      <td>9</td>\n",
       "      <td>13</td>\n",
       "    </tr>\n",
       "    <tr>\n",
       "      <th>top</th>\n",
       "      <td>2016/09/12 00:00:00.000</td>\n",
       "      <td>Umatilla County</td>\n",
       "      <td>JUNIPER BLUFFS</td>\n",
       "    </tr>\n",
       "    <tr>\n",
       "      <th>freq</th>\n",
       "      <td>1</td>\n",
       "      <td>1</td>\n",
       "      <td>1</td>\n",
       "    </tr>\n",
       "  </tbody>\n",
       "</table>\n",
       "</div>"
      ],
      "text/plain": [
       "                     DISCOVERY_        FIPS_NAME       FIRE_NAME\n",
       "count                        13                9              13\n",
       "unique                       13                9              13\n",
       "top     2016/09/12 00:00:00.000  Umatilla County  JUNIPER BLUFFS\n",
       "freq                          1                1               1"
      ]
     },
     "execution_count": 90,
     "metadata": {},
     "output_type": "execute_result"
    }
   ],
   "source": [
    "df_large[['DISCOVERY_','FIPS_NAME','FIRE_NAME']].describe()"
   ]
  },
  {
   "cell_type": "code",
   "execution_count": 91,
   "id": "d80df510",
   "metadata": {},
   "outputs": [
    {
     "data": {
      "text/html": [
       "<div>\n",
       "<style scoped>\n",
       "    .dataframe tbody tr th:only-of-type {\n",
       "        vertical-align: middle;\n",
       "    }\n",
       "\n",
       "    .dataframe tbody tr th {\n",
       "        vertical-align: top;\n",
       "    }\n",
       "\n",
       "    .dataframe thead th {\n",
       "        text-align: right;\n",
       "    }\n",
       "</style>\n",
       "<table border=\"1\" class=\"dataframe\">\n",
       "  <thead>\n",
       "    <tr style=\"text-align: right;\">\n",
       "      <th></th>\n",
       "      <th>DISCOVERY_</th>\n",
       "      <th>FIPS_NAME</th>\n",
       "      <th>FIRE_NAME</th>\n",
       "    </tr>\n",
       "  </thead>\n",
       "  <tbody>\n",
       "    <tr>\n",
       "      <th>count</th>\n",
       "      <td>13</td>\n",
       "      <td>9</td>\n",
       "      <td>13</td>\n",
       "    </tr>\n",
       "    <tr>\n",
       "      <th>unique</th>\n",
       "      <td>13</td>\n",
       "      <td>9</td>\n",
       "      <td>13</td>\n",
       "    </tr>\n",
       "    <tr>\n",
       "      <th>top</th>\n",
       "      <td>2016/09/12 00:00:00.000</td>\n",
       "      <td>Umatilla County</td>\n",
       "      <td>JUNIPER BLUFFS</td>\n",
       "    </tr>\n",
       "    <tr>\n",
       "      <th>freq</th>\n",
       "      <td>1</td>\n",
       "      <td>1</td>\n",
       "      <td>1</td>\n",
       "    </tr>\n",
       "  </tbody>\n",
       "</table>\n",
       "</div>"
      ],
      "text/plain": [
       "                     DISCOVERY_        FIPS_NAME       FIRE_NAME\n",
       "count                        13                9              13\n",
       "unique                       13                9              13\n",
       "top     2016/09/12 00:00:00.000  Umatilla County  JUNIPER BLUFFS\n",
       "freq                          1                1               1"
      ]
     },
     "execution_count": 91,
     "metadata": {},
     "output_type": "execute_result"
    }
   ],
   "source": [
    "df_large['FIRE_SIZE'].max()\n",
    "df_large['FIRE_SIZE'].max()"
   ]
  },
  {
   "cell_type": "code",
   "execution_count": 92,
   "id": "6f1ef8f5",
   "metadata": {},
   "outputs": [
    {
     "data": {
      "text/plain": [
       "23600.0"
      ]
     },
     "execution_count": 92,
     "metadata": {},
     "output_type": "execute_result"
    }
   ],
   "source": [
    "df_large['FIRE_SIZE'].max()"
   ]
  },
  {
   "cell_type": "code",
   "execution_count": 98,
   "id": "240f59f0",
   "metadata": {},
   "outputs": [
    {
     "data": {
      "text/html": [
       "<div>\n",
       "<style scoped>\n",
       "    .dataframe tbody tr th:only-of-type {\n",
       "        vertical-align: middle;\n",
       "    }\n",
       "\n",
       "    .dataframe tbody tr th {\n",
       "        vertical-align: top;\n",
       "    }\n",
       "\n",
       "    .dataframe thead th {\n",
       "        text-align: right;\n",
       "    }\n",
       "</style>\n",
       "<table border=\"1\" class=\"dataframe\">\n",
       "  <thead>\n",
       "    <tr style=\"text-align: right;\">\n",
       "      <th></th>\n",
       "      <th>DISCOVERY_</th>\n",
       "      <th>FIPS_NAME</th>\n",
       "    </tr>\n",
       "  </thead>\n",
       "  <tbody>\n",
       "    <tr>\n",
       "      <th>count</th>\n",
       "      <td>13</td>\n",
       "      <td>9</td>\n",
       "    </tr>\n",
       "    <tr>\n",
       "      <th>unique</th>\n",
       "      <td>13</td>\n",
       "      <td>9</td>\n",
       "    </tr>\n",
       "    <tr>\n",
       "      <th>top</th>\n",
       "      <td>2016/09/12 00:00:00.000</td>\n",
       "      <td>Umatilla County</td>\n",
       "    </tr>\n",
       "    <tr>\n",
       "      <th>freq</th>\n",
       "      <td>1</td>\n",
       "      <td>1</td>\n",
       "    </tr>\n",
       "  </tbody>\n",
       "</table>\n",
       "</div>"
      ],
      "text/plain": [
       "                     DISCOVERY_        FIPS_NAME\n",
       "count                        13                9\n",
       "unique                       13                9\n",
       "top     2016/09/12 00:00:00.000  Umatilla County\n",
       "freq                          1                1"
      ]
     },
     "execution_count": 98,
     "metadata": {},
     "output_type": "execute_result"
    }
   ],
   "source": [
    "df_large[['DISCOVERY_','FIPS_NAME']].describe()"
   ]
  },
  {
   "cell_type": "code",
   "execution_count": 120,
   "id": "5e1e4609",
   "metadata": {},
   "outputs": [
    {
     "data": {
      "text/plain": [
       "23600.0"
      ]
     },
     "execution_count": 120,
     "metadata": {},
     "output_type": "execute_result"
    }
   ],
   "source": [
    "df_large['FIRE_SIZE'].max()"
   ]
  },
  {
   "cell_type": "code",
   "execution_count": 121,
   "id": "554ded40",
   "metadata": {},
   "outputs": [],
   "source": [
    "df_largest_fire=df_large['FIRE_SIZE'].max()"
   ]
  },
  {
   "cell_type": "code",
   "execution_count": 127,
   "id": "39a548d0",
   "metadata": {},
   "outputs": [],
   "source": [
    "df_large['FIRE_SIZE'].max()\n",
    "df_largest_fire=df_large['FIRE_SIZE'].max()"
   ]
  },
  {
   "cell_type": "code",
   "execution_count": 132,
   "id": "e22557f8",
   "metadata": {},
   "outputs": [
    {
     "data": {
      "text/html": [
       "<div>\n",
       "<style scoped>\n",
       "    .dataframe tbody tr th:only-of-type {\n",
       "        vertical-align: middle;\n",
       "    }\n",
       "\n",
       "    .dataframe tbody tr th {\n",
       "        vertical-align: top;\n",
       "    }\n",
       "\n",
       "    .dataframe thead th {\n",
       "        text-align: right;\n",
       "    }\n",
       "</style>\n",
       "<table border=\"1\" class=\"dataframe\">\n",
       "  <thead>\n",
       "    <tr style=\"text-align: right;\">\n",
       "      <th></th>\n",
       "      <th>DISCOVERY_</th>\n",
       "      <th>FIRE_NAME</th>\n",
       "      <th>FIPS_NAME</th>\n",
       "      <th>FIRE_SIZE</th>\n",
       "    </tr>\n",
       "  </thead>\n",
       "  <tbody>\n",
       "    <tr>\n",
       "      <th>66964</th>\n",
       "      <td>2012/07/08 00:00:00.000</td>\n",
       "      <td>LONG DRAW</td>\n",
       "      <td>Malheur County</td>\n",
       "      <td>558198.3</td>\n",
       "    </tr>\n",
       "  </tbody>\n",
       "</table>\n",
       "</div>"
      ],
      "text/plain": [
       "                    DISCOVERY_  FIRE_NAME       FIPS_NAME  FIRE_SIZE\n",
       "66964  2012/07/08 00:00:00.000  LONG DRAW  Malheur County   558198.3"
      ]
     },
     "execution_count": 132,
     "metadata": {},
     "output_type": "execute_result"
    }
   ],
   "source": [
    "df[df[\"FIRE_SIZE\"]==df[\"FIRE_SIZE\"].max()][['DISCOVERY_','FIRE_NAME','FIPS_NAME',\"FIRE_SIZE\"]]"
   ]
  },
  {
   "cell_type": "code",
   "execution_count": 146,
   "id": "47f5a63e",
   "metadata": {},
   "outputs": [],
   "source": [
    "df_large = df[df['FIRE_SIZE'] > 50]"
   ]
  },
  {
   "cell_type": "code",
   "execution_count": 147,
   "id": "bddfce06",
   "metadata": {},
   "outputs": [],
   "source": [
    "lane_county_fires = df_large[df_large['FIPS_NAME'] == 'Lane County']"
   ]
  },
  {
   "cell_type": "code",
   "execution_count": 148,
   "id": "fbf3542a",
   "metadata": {},
   "outputs": [
    {
     "data": {
      "text/plain": [
       "(33,)"
      ]
     },
     "execution_count": 148,
     "metadata": {},
     "output_type": "execute_result"
    }
   ],
   "source": [
    "lane_county_fires['OBJECTID'].shape"
   ]
  },
  {
   "cell_type": "code",
   "execution_count": 149,
   "id": "ce0cda38",
   "metadata": {},
   "outputs": [],
   "source": [
    "# Import modules\n",
    "from cenpy import products\n",
    "import matplotlib.pyplot as plt\n",
    "\n",
    "# Define product\n",
    "acs = products.ACS(2019)"
   ]
  },
  {
   "cell_type": "code",
   "execution_count": 150,
   "id": "15f47916",
   "metadata": {},
   "outputs": [
    {
     "data": {
      "text/html": [
       "<div>\n",
       "<style scoped>\n",
       "    .dataframe tbody tr th:only-of-type {\n",
       "        vertical-align: middle;\n",
       "    }\n",
       "\n",
       "    .dataframe tbody tr th {\n",
       "        vertical-align: top;\n",
       "    }\n",
       "\n",
       "    .dataframe thead th {\n",
       "        text-align: right;\n",
       "    }\n",
       "</style>\n",
       "<table border=\"1\" class=\"dataframe\">\n",
       "  <thead>\n",
       "    <tr style=\"text-align: right;\">\n",
       "      <th></th>\n",
       "      <th>description</th>\n",
       "      <th>columns</th>\n",
       "    </tr>\n",
       "    <tr>\n",
       "      <th>table_name</th>\n",
       "      <th></th>\n",
       "      <th></th>\n",
       "    </tr>\n",
       "  </thead>\n",
       "  <tbody>\n",
       "    <tr>\n",
       "      <th>B01003</th>\n",
       "      <td>TOTAL POPULATION</td>\n",
       "      <td>[B01003_001E]</td>\n",
       "    </tr>\n",
       "    <tr>\n",
       "      <th>B05006</th>\n",
       "      <td>PLACE OF BIRTH FOR THE FOREIGN-BORN POPULATION...</td>\n",
       "      <td>[B05006_001E, B05006_002E, B05006_003E, B05006...</td>\n",
       "    </tr>\n",
       "    <tr>\n",
       "      <th>B05007</th>\n",
       "      <td>PLACE OF BIRTH BY YEAR OF ENTRY BY CITIZENSHIP...</td>\n",
       "      <td>[B05007_001E, B05007_002E, B05007_003E, B05007...</td>\n",
       "    </tr>\n",
       "    <tr>\n",
       "      <th>B05008</th>\n",
       "      <td>SEX BY PLACE OF BIRTH BY YEAR OF ENTRY FOR THE...</td>\n",
       "      <td>[B05008_001E, B05008_002E, B05008_003E, B05008...</td>\n",
       "    </tr>\n",
       "    <tr>\n",
       "      <th>B05013</th>\n",
       "      <td>SEX BY AGE FOR THE FOREIGN-BORN POPULATION</td>\n",
       "      <td>[B05013_001E, B05013_002E, B05013_003E, B05013...</td>\n",
       "    </tr>\n",
       "    <tr>\n",
       "      <th>...</th>\n",
       "      <td>...</td>\n",
       "      <td>...</td>\n",
       "    </tr>\n",
       "    <tr>\n",
       "      <th>C24030</th>\n",
       "      <td>SEX BY INDUSTRY FOR THE CIVILIAN EMPLOYED POPU...</td>\n",
       "      <td>[C24030_001E, C24030_002E, C24030_003E, C24030...</td>\n",
       "    </tr>\n",
       "    <tr>\n",
       "      <th>C24040</th>\n",
       "      <td>SEX BY INDUSTRY FOR THE FULL-TIME, YEAR-ROUND ...</td>\n",
       "      <td>[C24040_001E, C24040_002E, C24040_003E, C24040...</td>\n",
       "    </tr>\n",
       "    <tr>\n",
       "      <th>C24050</th>\n",
       "      <td>INDUSTRY BY OCCUPATION FOR THE CIVILIAN  EMPLO...</td>\n",
       "      <td>[C24050_001E, C24050_002E, C24050_003E, C24050...</td>\n",
       "    </tr>\n",
       "    <tr>\n",
       "      <th>C24060</th>\n",
       "      <td>OCCUPATION BY CLASS OF WORKER FOR THE CIVILIAN...</td>\n",
       "      <td>[C24060_001E, C24060_002E, C24060_003E, C24060...</td>\n",
       "    </tr>\n",
       "    <tr>\n",
       "      <th>C24070</th>\n",
       "      <td>INDUSTRY BY CLASS OF WORKER FOR THE CIVILIAN E...</td>\n",
       "      <td>[C24070_001E, C24070_002E, C24070_003E, C24070...</td>\n",
       "    </tr>\n",
       "  </tbody>\n",
       "</table>\n",
       "<p>143 rows × 2 columns</p>\n",
       "</div>"
      ],
      "text/plain": [
       "                                                  description  \\\n",
       "table_name                                                      \n",
       "B01003                                       TOTAL POPULATION   \n",
       "B05006      PLACE OF BIRTH FOR THE FOREIGN-BORN POPULATION...   \n",
       "B05007      PLACE OF BIRTH BY YEAR OF ENTRY BY CITIZENSHIP...   \n",
       "B05008      SEX BY PLACE OF BIRTH BY YEAR OF ENTRY FOR THE...   \n",
       "B05013             SEX BY AGE FOR THE FOREIGN-BORN POPULATION   \n",
       "...                                                       ...   \n",
       "C24030      SEX BY INDUSTRY FOR THE CIVILIAN EMPLOYED POPU...   \n",
       "C24040      SEX BY INDUSTRY FOR THE FULL-TIME, YEAR-ROUND ...   \n",
       "C24050      INDUSTRY BY OCCUPATION FOR THE CIVILIAN  EMPLO...   \n",
       "C24060      OCCUPATION BY CLASS OF WORKER FOR THE CIVILIAN...   \n",
       "C24070      INDUSTRY BY CLASS OF WORKER FOR THE CIVILIAN E...   \n",
       "\n",
       "                                                      columns  \n",
       "table_name                                                     \n",
       "B01003                                          [B01003_001E]  \n",
       "B05006      [B05006_001E, B05006_002E, B05006_003E, B05006...  \n",
       "B05007      [B05007_001E, B05007_002E, B05007_003E, B05007...  \n",
       "B05008      [B05008_001E, B05008_002E, B05008_003E, B05008...  \n",
       "B05013      [B05013_001E, B05013_002E, B05013_003E, B05013...  \n",
       "...                                                       ...  \n",
       "C24030      [C24030_001E, C24030_002E, C24030_003E, C24030...  \n",
       "C24040      [C24040_001E, C24040_002E, C24040_003E, C24040...  \n",
       "C24050      [C24050_001E, C24050_002E, C24050_003E, C24050...  \n",
       "C24060      [C24060_001E, C24060_002E, C24060_003E, C24060...  \n",
       "C24070      [C24070_001E, C24070_002E, C24070_003E, C24070...  \n",
       "\n",
       "[143 rows x 2 columns]"
      ]
     },
     "execution_count": 150,
     "metadata": {},
     "output_type": "execute_result"
    }
   ],
   "source": [
    "# Print list of tables\n",
    "acs.filter_tables('POPULATION', by='description')"
   ]
  },
  {
   "cell_type": "code",
   "execution_count": 151,
   "id": "5bae1b8e",
   "metadata": {},
   "outputs": [
    {
     "data": {
      "text/html": [
       "<div>\n",
       "<style scoped>\n",
       "    .dataframe tbody tr th:only-of-type {\n",
       "        vertical-align: middle;\n",
       "    }\n",
       "\n",
       "    .dataframe tbody tr th {\n",
       "        vertical-align: top;\n",
       "    }\n",
       "\n",
       "    .dataframe thead th {\n",
       "        text-align: right;\n",
       "    }\n",
       "</style>\n",
       "<table border=\"1\" class=\"dataframe\">\n",
       "  <thead>\n",
       "    <tr style=\"text-align: right;\">\n",
       "      <th></th>\n",
       "      <th>label</th>\n",
       "      <th>concept</th>\n",
       "      <th>predicateType</th>\n",
       "      <th>group</th>\n",
       "      <th>limit</th>\n",
       "      <th>predicateOnly</th>\n",
       "      <th>attributes</th>\n",
       "      <th>required</th>\n",
       "    </tr>\n",
       "  </thead>\n",
       "  <tbody>\n",
       "    <tr>\n",
       "      <th>B01003_001E</th>\n",
       "      <td>Estimate!!Total</td>\n",
       "      <td>TOTAL POPULATION</td>\n",
       "      <td>int</td>\n",
       "      <td>B01003</td>\n",
       "      <td>0</td>\n",
       "      <td>NaN</td>\n",
       "      <td>B01003_001EA,B01003_001M,B01003_001MA</td>\n",
       "      <td>NaN</td>\n",
       "    </tr>\n",
       "  </tbody>\n",
       "</table>\n",
       "</div>"
      ],
      "text/plain": [
       "                       label           concept predicateType   group limit  \\\n",
       "B01003_001E  Estimate!!Total  TOTAL POPULATION           int  B01003     0   \n",
       "\n",
       "            predicateOnly                             attributes required  \n",
       "B01003_001E           NaN  B01003_001EA,B01003_001M,B01003_001MA      NaN  "
      ]
     },
     "execution_count": 151,
     "metadata": {},
     "output_type": "execute_result"
    }
   ],
   "source": [
    "# Print list of variables\n",
    "acs.filter_variables('B01003')"
   ]
  },
  {
   "cell_type": "code",
   "execution_count": 153,
   "id": "d198f2a0",
   "metadata": {},
   "outputs": [
    {
     "name": "stderr",
     "output_type": "stream",
     "text": [
      "/opt/anaconda3/envs/lab2/lib/python3.8/site-packages/pyproj/crs/crs.py:131: FutureWarning: '+init=<authority>:<code>' syntax is deprecated. '<authority>:<code>' is the preferred initialization method. When making the change, be mindful of axis order changes: https://pyproj4.github.io/pyproj/stable/gotchas.html#axis-order-changes-in-proj-6\n",
      "  in_crs_string = _prepare_from_proj_string(in_crs_string)\n",
      "/opt/anaconda3/envs/lab2/lib/python3.8/site-packages/pyproj/crs/crs.py:131: FutureWarning: '+init=<authority>:<code>' syntax is deprecated. '<authority>:<code>' is the preferred initialization method. When making the change, be mindful of axis order changes: https://pyproj4.github.io/pyproj/stable/gotchas.html#axis-order-changes-in-proj-6\n",
      "  in_crs_string = _prepare_from_proj_string(in_crs_string)\n",
      "/opt/anaconda3/envs/lab2/lib/python3.8/site-packages/cenpy/products.py:762: FutureWarning: The `op` parameter is deprecated and will be removed in a future release. Please use the `predicate` parameter instead.\n",
      "  return self._from_name(county, variables, level, \"Counties\", **kwargs)\n"
     ]
    }
   ],
   "source": [
    "# Download data\n",
    "lane_pop = products.ACS(2019).from_county('Lane County, OR', level='tract',\n",
    "                                        variables=['B01003_001E']) # don't worry about the deprecation message!"
   ]
  },
  {
   "cell_type": "code",
   "execution_count": 154,
   "id": "b7ecd7a1",
   "metadata": {},
   "outputs": [
    {
     "data": {
      "text/plain": [
       "count      87.000000\n",
       "mean     4291.264368\n",
       "std      1506.689737\n",
       "min         0.000000\n",
       "25%      3287.500000\n",
       "50%      4068.000000\n",
       "75%      5205.000000\n",
       "max      8932.000000\n",
       "Name: B01003_001E, dtype: float64"
      ]
     },
     "execution_count": 154,
     "metadata": {},
     "output_type": "execute_result"
    }
   ],
   "source": [
    "# Calculate some stats\n",
    "lane_pop['B01003_001E'].describe()"
   ]
  },
  {
   "cell_type": "code",
   "execution_count": 157,
   "id": "a025840a",
   "metadata": {},
   "outputs": [
    {
     "data": {
      "text/plain": [
       "<AxesSubplot:>"
      ]
     },
     "execution_count": 157,
     "metadata": {},
     "output_type": "execute_result"
    },
    {
     "data": {
      "image/png": "[encoded data removed]",
      "text/plain": [
       "<Figure size 720x720 with 1 Axes>"
      ]
     },
     "metadata": {
      "needs_background": "light"
     },
     "output_type": "display_data"
    }
   ],
   "source": [
    "# Plot map\n",
    "f, ax = plt.subplots(1, 1, figsize=(10,10))\n",
    "lane_pop.plot('B01003_001E', ax=ax, cmap='plasma')"
   ]
  },
  {
   "cell_type": "code",
   "execution_count": 160,
   "id": "5905798c",
   "metadata": {},
   "outputs": [
    {
     "data": {
      "text/plain": [
       "<AxesSubplot:>"
      ]
     },
     "execution_count": 160,
     "metadata": {},
     "output_type": "execute_result"
    },
    {
     "data": {
      "image/png": "[encoded data removed]",
      "text/plain": [
       "<Figure size 720x720 with 2 Axes>"
      ]
     },
     "metadata": {
      "needs_background": "light"
     },
     "output_type": "display_data"
    }
   ],
   "source": [
    "lane_pop['pop_density'] = lane_pop['B01003_001E'] / lane_pop['geometry'].area\n",
    "\n",
    "from mpl_toolkits.axes_grid1 import make_axes_locatable\n",
    "\n",
    "# Plot map\n",
    "f, ax = plt.subplots(1, 1, figsize=(10,10))\n",
    "\n",
    "# These two lines make the colorbar the same size as the axes.\n",
    "divider = make_axes_locatable(ax)\n",
    "cax = divider.append_axes(\"right\", size=\"5%\", pad=0.1)\n",
    "\n",
    "lane_pop.plot('pop_density', ax=ax, cmap='plasma', legend=True, cax=cax)"
   ]
  },
  {
   "cell_type": "code",
   "execution_count": 161,
   "id": "ab86c189",
   "metadata": {},
   "outputs": [
    {
     "data": {
      "text/plain": [
       "<Derived Projected CRS: EPSG:3857>\n",
       "Name: WGS 84 / Pseudo-Mercator\n",
       "Axis Info [cartesian]:\n",
       "- E[east]: Easting (metre)\n",
       "- N[north]: Northing (metre)\n",
       "Area of Use:\n",
       "- name: World between 85.06°S and 85.06°N.\n",
       "- bounds: (-180.0, -85.06, 180.0, 85.06)\n",
       "Coordinate Operation:\n",
       "- name: Popular Visualisation Pseudo-Mercator\n",
       "- method: Popular Visualisation Pseudo Mercator\n",
       "Datum: World Geodetic System 1984 ensemble\n",
       "- Ellipsoid: WGS 84\n",
       "- Prime Meridian: Greenwich"
      ]
     },
     "execution_count": 161,
     "metadata": {},
     "output_type": "execute_result"
    }
   ],
   "source": [
    "lane_pop.crs"
   ]
  },
  {
   "cell_type": "code",
   "execution_count": 162,
   "id": "4f4da6cb",
   "metadata": {},
   "outputs": [
    {
     "data": {
      "text/plain": [
       "<Geographic 2D CRS: EPSG:4326>\n",
       "Name: WGS 84\n",
       "Axis Info [ellipsoidal]:\n",
       "- Lat[north]: Geodetic latitude (degree)\n",
       "- Lon[east]: Geodetic longitude (degree)\n",
       "Area of Use:\n",
       "- name: World.\n",
       "- bounds: (-180.0, -90.0, 180.0, 90.0)\n",
       "Datum: World Geodetic System 1984 ensemble\n",
       "- Ellipsoid: WGS 84\n",
       "- Prime Meridian: Greenwich"
      ]
     },
     "execution_count": 162,
     "metadata": {},
     "output_type": "execute_result"
    }
   ],
   "source": [
    "# Make \n",
    "df_large = df[df['FIRE_SIZE'] > 100]\n",
    "lane_fires = df_large[df_large['FIPS_NAME'] == 'Lane County']\n",
    "lane_fires.crs"
   ]
  },
  {
   "cell_type": "code",
   "execution_count": 163,
   "id": "0adb6ce5",
   "metadata": {},
   "outputs": [
    {
     "data": {
      "text/plain": [
       "<Derived Projected CRS: EPSG:3857>\n",
       "Name: WGS 84 / Pseudo-Mercator\n",
       "Axis Info [cartesian]:\n",
       "- X[east]: Easting (metre)\n",
       "- Y[north]: Northing (metre)\n",
       "Area of Use:\n",
       "- name: World between 85.06°S and 85.06°N.\n",
       "- bounds: (-180.0, -85.06, 180.0, 85.06)\n",
       "Coordinate Operation:\n",
       "- name: Popular Visualisation Pseudo-Mercator\n",
       "- method: Popular Visualisation Pseudo Mercator\n",
       "Datum: World Geodetic System 1984 ensemble\n",
       "- Ellipsoid: WGS 84\n",
       "- Prime Meridian: Greenwich"
      ]
     },
     "execution_count": 163,
     "metadata": {},
     "output_type": "execute_result"
    }
   ],
   "source": [
    "lane_fires_proj = lane_fires.to_crs('EPSG:3857')\n",
    "lane_fires_proj.crs"
   ]
  },
  {
   "cell_type": "code",
   "execution_count": 165,
   "id": "02b94678",
   "metadata": {},
   "outputs": [
    {
     "data": {
      "text/plain": [
       "<AxesSubplot:>"
      ]
     },
     "execution_count": 165,
     "metadata": {},
     "output_type": "execute_result"
    },
    {
     "data": {
      "image/png": "[encoded data removed]",
      "text/plain": [
       "<Figure size 720x720 with 2 Axes>"
      ]
     },
     "metadata": {
      "needs_background": "light"
     },
     "output_type": "display_data"
    }
   ],
   "source": [
    "# Plot map\n",
    "f, ax = plt.subplots(1, 1, figsize=(10,10))\n",
    "\n",
    "# These two lines make the colorbar the same size as the axes.\n",
    "divider = make_axes_locatable(ax)\n",
    "cax = divider.append_axes(\"right\", size=\"5%\", pad=0.1)\n",
    "\n",
    "lane_pop.plot('pop_density', ax=ax, cmap='plasma', legend=True, cax=cax)\n",
    "lane_fires_proj.plot(ax=ax, c='white')"
   ]
  },
  {
   "cell_type": "code",
   "execution_count": 167,
   "id": "33a99d83",
   "metadata": {},
   "outputs": [
    {
     "ename": "NameError",
     "evalue": "name 'fire_count' is not defined",
     "output_type": "error",
     "traceback": [
      "\u001b[0;31m---------------------------------------------------------------------------\u001b[0m",
      "\u001b[0;31mNameError\u001b[0m                                 Traceback (most recent call last)",
      "Input \u001b[0;32mIn [167]\u001b[0m, in \u001b[0;36m<module>\u001b[0;34m\u001b[0m\n\u001b[1;32m      6\u001b[0m tract_count\u001b[38;5;241m.\u001b[39mcolumns \u001b[38;5;241m=\u001b[39m [\u001b[38;5;124m'\u001b[39m\u001b[38;5;124mtract\u001b[39m\u001b[38;5;124m'\u001b[39m, \u001b[38;5;124m'\u001b[39m\u001b[38;5;124mfire_count\u001b[39m\u001b[38;5;124m'\u001b[39m]\n\u001b[1;32m      8\u001b[0m \u001b[38;5;66;03m# Merge back to original DataFrame\u001b[39;00m\n\u001b[0;32m----> 9\u001b[0m merged_df \u001b[38;5;241m=\u001b[39m lane_pop\u001b[38;5;241m.\u001b[39mmerge(\u001b[43mfire_count\u001b[49m, on\u001b[38;5;241m=\u001b[39m\u001b[38;5;124m'\u001b[39m\u001b[38;5;124mtract\u001b[39m\u001b[38;5;124m'\u001b[39m, how\u001b[38;5;241m=\u001b[39m\u001b[38;5;124m'\u001b[39m\u001b[38;5;124mleft\u001b[39m\u001b[38;5;124m'\u001b[39m)\n\u001b[1;32m     11\u001b[0m \u001b[38;5;66;03m# Clean up data by filling NaNs with 0\u001b[39;00m\n\u001b[1;32m     12\u001b[0m merged_df[\u001b[38;5;124m'\u001b[39m\u001b[38;5;124mfire_count\u001b[39m\u001b[38;5;124m'\u001b[39m]\u001b[38;5;241m.\u001b[39mfillna(\u001b[38;5;241m0\u001b[39m, inplace\u001b[38;5;241m=\u001b[39m\u001b[38;5;28;01mTrue\u001b[39;00m)  \n",
      "\u001b[0;31mNameError\u001b[0m: name 'fire_count' is not defined"
     ]
    }
   ],
   "source": [
    "# Spatial join\n",
    "joined_df = gpd.sjoin(lane_fires_proj, lane_pop, how='inner', predicate='intersects')\n",
    "\n",
    "# Groupby tract\n",
    "tract_count = joined_df.groupby(['tract'], as_index=False)['OBJECTID'].count()\n",
    "tract_count.columns = ['tract', 'fire_count']\n",
    "\n",
    "# Merge back to original DataFrame\n",
    "merged_df = lane_pop.merge(fire_count, on='tract', how='left')\n",
    "\n",
    "# Clean up data by filling NaNs with 0\n",
    "merged_df['fire_count'].fillna(0, inplace=True)  \n",
    "\n",
    "# Plot map\n",
    "f, ax = plt.subplots(1, 1, figsize=(10,10))\n",
    "divider = make_axes_locatable(ax)\n",
    "cax = divider.append_axes(\"right\", size=\"5%\", pad=0.1)\n",
    "merged_df.plot('fire_count', ax=ax, cmap='plasma', legend=True, cax=cax)"
   ]
  },
  {
   "cell_type": "code",
   "execution_count": null,
   "id": "07fbfdb1",
   "metadata": {},
   "outputs": [],
   "source": []
  }
 ],
 "metadata": {
  "kernelspec": {
   "display_name": "Python 3 (ipykernel)",
   "language": "python",
   "name": "python3"
  },
  "language_info": {
   "codemirror_mode": {
    "name": "ipython",
    "version": 3
   },
   "file_extension": ".py",
   "mimetype": "text/x-python",
   "name": "python",
   "nbconvert_exporter": "python",
   "pygments_lexer": "ipython3",
   "version": "3.8.12"
  }
 },
 "nbformat": 4,
 "nbformat_minor": 5
}
