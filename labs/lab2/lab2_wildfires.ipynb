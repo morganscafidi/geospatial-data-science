{
 "cells": [
  {
   "cell_type": "code",
   "execution_count": 1,
   "id": "6b9676b1",
   "metadata": {},
   "outputs": [],
   "source": [
    "# Import modules\n",
    "import pandas as pd\n",
    "import geopandas as gpd\n",
    "import matplotlib.pyplot as plt"
   ]
  },
  {
   "cell_type": "code",
   "execution_count": 3,
   "id": "dfb610dc",
   "metadata": {},
   "outputs": [
    {
     "ename": "DriverError",
     "evalue": "./Wildfire/or_1992-2018.shp: No such file or directory",
     "output_type": "error",
     "traceback": [
      "\u001b[0;31m---------------------------------------------------------------------------\u001b[0m",
      "\u001b[0;31mCPLE_OpenFailedError\u001b[0m                      Traceback (most recent call last)",
      "File \u001b[0;32mfiona/_shim.pyx:83\u001b[0m, in \u001b[0;36mfiona._shim.gdal_open_vector\u001b[0;34m()\u001b[0m\n",
      "File \u001b[0;32mfiona/_err.pyx:291\u001b[0m, in \u001b[0;36mfiona._err.exc_wrap_pointer\u001b[0;34m()\u001b[0m\n",
      "\u001b[0;31mCPLE_OpenFailedError\u001b[0m: ./Wildfire/or_1992-2018.shp: No such file or directory",
      "\nDuring handling of the above exception, another exception occurred:\n",
      "\u001b[0;31mDriverError\u001b[0m                               Traceback (most recent call last)",
      "Input \u001b[0;32mIn [3]\u001b[0m, in \u001b[0;36m<module>\u001b[0;34m\u001b[0m\n\u001b[1;32m      3\u001b[0m pathname \u001b[38;5;241m=\u001b[39m \u001b[38;5;124m'\u001b[39m\u001b[38;5;124m./Wildfire/\u001b[39m\u001b[38;5;124m'\u001b[39m\n\u001b[1;32m      5\u001b[0m \u001b[38;5;66;03m# Read data\u001b[39;00m\n\u001b[0;32m----> 6\u001b[0m df \u001b[38;5;241m=\u001b[39m \u001b[43mgpd\u001b[49m\u001b[38;5;241;43m.\u001b[39;49m\u001b[43mread_file\u001b[49m\u001b[43m(\u001b[49m\u001b[43mpathname\u001b[49m\u001b[43m \u001b[49m\u001b[38;5;241;43m+\u001b[39;49m\u001b[43m \u001b[49m\u001b[38;5;124;43m'\u001b[39;49m\u001b[38;5;124;43mor_1992-2018.shp\u001b[39;49m\u001b[38;5;124;43m'\u001b[39;49m\u001b[43m)\u001b[49m\n",
      "File \u001b[0;32m/opt/anaconda3/envs/lab2/lib/python3.8/site-packages/geopandas/io/file.py:201\u001b[0m, in \u001b[0;36m_read_file\u001b[0;34m(filename, bbox, mask, rows, **kwargs)\u001b[0m\n\u001b[1;32m    198\u001b[0m     reader \u001b[38;5;241m=\u001b[39m fiona\u001b[38;5;241m.\u001b[39mopen\n\u001b[1;32m    200\u001b[0m \u001b[38;5;28;01mwith\u001b[39;00m fiona_env():\n\u001b[0;32m--> 201\u001b[0m     \u001b[38;5;28;01mwith\u001b[39;00m \u001b[43mreader\u001b[49m\u001b[43m(\u001b[49m\u001b[43mpath_or_bytes\u001b[49m\u001b[43m,\u001b[49m\u001b[43m \u001b[49m\u001b[38;5;241;43m*\u001b[39;49m\u001b[38;5;241;43m*\u001b[39;49m\u001b[43mkwargs\u001b[49m\u001b[43m)\u001b[49m \u001b[38;5;28;01mas\u001b[39;00m features:\n\u001b[1;32m    202\u001b[0m \n\u001b[1;32m    203\u001b[0m         \u001b[38;5;66;03m# In a future Fiona release the crs attribute of features will\u001b[39;00m\n\u001b[1;32m    204\u001b[0m         \u001b[38;5;66;03m# no longer be a dict, but will behave like a dict. So this should\u001b[39;00m\n\u001b[1;32m    205\u001b[0m         \u001b[38;5;66;03m# be forwards compatible\u001b[39;00m\n\u001b[1;32m    206\u001b[0m         crs \u001b[38;5;241m=\u001b[39m (\n\u001b[1;32m    207\u001b[0m             features\u001b[38;5;241m.\u001b[39mcrs[\u001b[38;5;124m\"\u001b[39m\u001b[38;5;124minit\u001b[39m\u001b[38;5;124m\"\u001b[39m]\n\u001b[1;32m    208\u001b[0m             \u001b[38;5;28;01mif\u001b[39;00m features\u001b[38;5;241m.\u001b[39mcrs \u001b[38;5;129;01mand\u001b[39;00m \u001b[38;5;124m\"\u001b[39m\u001b[38;5;124minit\u001b[39m\u001b[38;5;124m\"\u001b[39m \u001b[38;5;129;01min\u001b[39;00m features\u001b[38;5;241m.\u001b[39mcrs\n\u001b[1;32m    209\u001b[0m             \u001b[38;5;28;01melse\u001b[39;00m features\u001b[38;5;241m.\u001b[39mcrs_wkt\n\u001b[1;32m    210\u001b[0m         )\n\u001b[1;32m    212\u001b[0m         \u001b[38;5;66;03m# handle loading the bounding box\u001b[39;00m\n",
      "File \u001b[0;32m/opt/anaconda3/envs/lab2/lib/python3.8/site-packages/fiona/env.py:408\u001b[0m, in \u001b[0;36mensure_env_with_credentials.<locals>.wrapper\u001b[0;34m(*args, **kwargs)\u001b[0m\n\u001b[1;32m    405\u001b[0m \u001b[38;5;129m@wraps\u001b[39m(f)\n\u001b[1;32m    406\u001b[0m \u001b[38;5;28;01mdef\u001b[39;00m \u001b[38;5;21mwrapper\u001b[39m(\u001b[38;5;241m*\u001b[39margs, \u001b[38;5;241m*\u001b[39m\u001b[38;5;241m*\u001b[39mkwargs):\n\u001b[1;32m    407\u001b[0m     \u001b[38;5;28;01mif\u001b[39;00m local\u001b[38;5;241m.\u001b[39m_env:\n\u001b[0;32m--> 408\u001b[0m         \u001b[38;5;28;01mreturn\u001b[39;00m \u001b[43mf\u001b[49m\u001b[43m(\u001b[49m\u001b[38;5;241;43m*\u001b[39;49m\u001b[43margs\u001b[49m\u001b[43m,\u001b[49m\u001b[43m \u001b[49m\u001b[38;5;241;43m*\u001b[39;49m\u001b[38;5;241;43m*\u001b[39;49m\u001b[43mkwargs\u001b[49m\u001b[43m)\u001b[49m\n\u001b[1;32m    409\u001b[0m     \u001b[38;5;28;01melse\u001b[39;00m:\n\u001b[1;32m    410\u001b[0m         \u001b[38;5;28;01mif\u001b[39;00m \u001b[38;5;28misinstance\u001b[39m(args[\u001b[38;5;241m0\u001b[39m], \u001b[38;5;28mstr\u001b[39m):\n",
      "File \u001b[0;32m/opt/anaconda3/envs/lab2/lib/python3.8/site-packages/fiona/__init__.py:256\u001b[0m, in \u001b[0;36mopen\u001b[0;34m(fp, mode, driver, schema, crs, encoding, layer, vfs, enabled_drivers, crs_wkt, **kwargs)\u001b[0m\n\u001b[1;32m    253\u001b[0m     path \u001b[38;5;241m=\u001b[39m parse_path(fp)\n\u001b[1;32m    255\u001b[0m \u001b[38;5;28;01mif\u001b[39;00m mode \u001b[38;5;129;01min\u001b[39;00m (\u001b[38;5;124m'\u001b[39m\u001b[38;5;124ma\u001b[39m\u001b[38;5;124m'\u001b[39m, \u001b[38;5;124m'\u001b[39m\u001b[38;5;124mr\u001b[39m\u001b[38;5;124m'\u001b[39m):\n\u001b[0;32m--> 256\u001b[0m     c \u001b[38;5;241m=\u001b[39m \u001b[43mCollection\u001b[49m\u001b[43m(\u001b[49m\u001b[43mpath\u001b[49m\u001b[43m,\u001b[49m\u001b[43m \u001b[49m\u001b[43mmode\u001b[49m\u001b[43m,\u001b[49m\u001b[43m \u001b[49m\u001b[43mdriver\u001b[49m\u001b[38;5;241;43m=\u001b[39;49m\u001b[43mdriver\u001b[49m\u001b[43m,\u001b[49m\u001b[43m \u001b[49m\u001b[43mencoding\u001b[49m\u001b[38;5;241;43m=\u001b[39;49m\u001b[43mencoding\u001b[49m\u001b[43m,\u001b[49m\n\u001b[1;32m    257\u001b[0m \u001b[43m                   \u001b[49m\u001b[43mlayer\u001b[49m\u001b[38;5;241;43m=\u001b[39;49m\u001b[43mlayer\u001b[49m\u001b[43m,\u001b[49m\u001b[43m \u001b[49m\u001b[43menabled_drivers\u001b[49m\u001b[38;5;241;43m=\u001b[39;49m\u001b[43menabled_drivers\u001b[49m\u001b[43m,\u001b[49m\u001b[43m \u001b[49m\u001b[38;5;241;43m*\u001b[39;49m\u001b[38;5;241;43m*\u001b[39;49m\u001b[43mkwargs\u001b[49m\u001b[43m)\u001b[49m\n\u001b[1;32m    258\u001b[0m \u001b[38;5;28;01melif\u001b[39;00m mode \u001b[38;5;241m==\u001b[39m \u001b[38;5;124m'\u001b[39m\u001b[38;5;124mw\u001b[39m\u001b[38;5;124m'\u001b[39m:\n\u001b[1;32m    259\u001b[0m     \u001b[38;5;28;01mif\u001b[39;00m schema:\n\u001b[1;32m    260\u001b[0m         \u001b[38;5;66;03m# Make an ordered dict of schema properties.\u001b[39;00m\n",
      "File \u001b[0;32m/opt/anaconda3/envs/lab2/lib/python3.8/site-packages/fiona/collection.py:162\u001b[0m, in \u001b[0;36mCollection.__init__\u001b[0;34m(self, path, mode, driver, schema, crs, encoding, layer, vsi, archive, enabled_drivers, crs_wkt, ignore_fields, ignore_geometry, **kwargs)\u001b[0m\n\u001b[1;32m    160\u001b[0m \u001b[38;5;28;01mif\u001b[39;00m \u001b[38;5;28mself\u001b[39m\u001b[38;5;241m.\u001b[39mmode \u001b[38;5;241m==\u001b[39m \u001b[38;5;124m'\u001b[39m\u001b[38;5;124mr\u001b[39m\u001b[38;5;124m'\u001b[39m:\n\u001b[1;32m    161\u001b[0m     \u001b[38;5;28mself\u001b[39m\u001b[38;5;241m.\u001b[39msession \u001b[38;5;241m=\u001b[39m Session()\n\u001b[0;32m--> 162\u001b[0m     \u001b[38;5;28;43mself\u001b[39;49m\u001b[38;5;241;43m.\u001b[39;49m\u001b[43msession\u001b[49m\u001b[38;5;241;43m.\u001b[39;49m\u001b[43mstart\u001b[49m\u001b[43m(\u001b[49m\u001b[38;5;28;43mself\u001b[39;49m\u001b[43m,\u001b[49m\u001b[43m \u001b[49m\u001b[38;5;241;43m*\u001b[39;49m\u001b[38;5;241;43m*\u001b[39;49m\u001b[43mkwargs\u001b[49m\u001b[43m)\u001b[49m\n\u001b[1;32m    163\u001b[0m \u001b[38;5;28;01melif\u001b[39;00m \u001b[38;5;28mself\u001b[39m\u001b[38;5;241m.\u001b[39mmode \u001b[38;5;129;01min\u001b[39;00m (\u001b[38;5;124m'\u001b[39m\u001b[38;5;124ma\u001b[39m\u001b[38;5;124m'\u001b[39m, \u001b[38;5;124m'\u001b[39m\u001b[38;5;124mw\u001b[39m\u001b[38;5;124m'\u001b[39m):\n\u001b[1;32m    164\u001b[0m     \u001b[38;5;28mself\u001b[39m\u001b[38;5;241m.\u001b[39msession \u001b[38;5;241m=\u001b[39m WritingSession()\n",
      "File \u001b[0;32mfiona/ogrext.pyx:540\u001b[0m, in \u001b[0;36mfiona.ogrext.Session.start\u001b[0;34m()\u001b[0m\n",
      "File \u001b[0;32mfiona/_shim.pyx:90\u001b[0m, in \u001b[0;36mfiona._shim.gdal_open_vector\u001b[0;34m()\u001b[0m\n",
      "\u001b[0;31mDriverError\u001b[0m: ./Wildfire/or_1992-2018.shp: No such file or directory"
     ]
    }
   ],
   "source": [
    "# Define data filepath\n",
    "#pathname = '/Users/morganscafidi/Documents/GitHub/geospatial-data-science/labs/lab2/Wildfire'\n",
    "pathname = './Wildfire/'\n",
    "\n",
    "# Read data\n",
    "df = gpd.read_file(pathname + 'or_1992-2018.shp') # 'df' stands for DataFrame"
   ]
  },
  {
   "cell_type": "code",
   "execution_count": null,
   "id": "43a218dc",
   "metadata": {},
   "outputs": [],
   "source": [
    "# Find column labels\n",
    "df.columns"
   ]
  },
  {
   "cell_type": "code",
   "execution_count": null,
   "id": "2103958e",
   "metadata": {},
   "outputs": [],
   "source": [
    "# Find columns datatypes\n",
    "df.dtypes"
   ]
  },
  {
   "cell_type": "code",
   "execution_count": null,
   "id": "5f45fe70",
   "metadata": {},
   "outputs": [],
   "source": [
    "# Get some stats for numeric columns\n",
    "df['FIRE_SIZE'].describe()"
   ]
  },
  {
   "cell_type": "code",
   "execution_count": null,
   "id": "ae97b049",
   "metadata": {},
   "outputs": [],
   "source": [
    "# Filter fires larger than 100 acres\n",
    "df_large = df[df['FIRE_SIZE'] > 100]"
   ]
  },
  {
   "cell_type": "code",
   "execution_count": null,
   "id": "7f16a722",
   "metadata": {},
   "outputs": [],
   "source": [
    "# Find mean size of wildfires larger than 100 acres\n",
    "df_large['FIRE_SIZE'].mean()"
   ]
  },
  {
   "cell_type": "code",
   "execution_count": null,
   "id": "cc1bc8d6",
   "metadata": {},
   "outputs": [],
   "source": [
    "# Find the different cause of large wildfires\n",
    "df_large['NWCG_CAUSE'].unique()"
   ]
  },
  {
   "cell_type": "code",
   "execution_count": null,
   "id": "3221b21c",
   "metadata": {},
   "outputs": [],
   "source": [
    "# Filter fires that were caused by natural causes\n",
    "df_large_natural = df_large[df_large['NWCG_CAUSE'] == 'Natural']"
   ]
  },
  {
   "cell_type": "code",
   "execution_count": null,
   "id": "49a51bcb",
   "metadata": {},
   "outputs": [],
   "source": [
    "# Find date of discovery\n",
    "df_large_natural['DISCOVERY_']"
   ]
  },
  {
   "cell_type": "code",
   "execution_count": null,
   "id": "97e36d27",
   "metadata": {},
   "outputs": [],
   "source": [
    "datetime = pd.to_datetime(df_large_natural['DISCOVERY_'], format='%Y/%m/%d %H:%M:%S.%f')\n",
    "datetime"
   ]
  },
  {
   "cell_type": "code",
   "execution_count": null,
   "id": "175ba790",
   "metadata": {},
   "outputs": [],
   "source": [
    "df_large_natural['datetime'] = datetime # Sorry about the warning, extra credit if someone can fix this!"
   ]
  },
  {
   "cell_type": "code",
   "execution_count": null,
   "id": "617ef9fe",
   "metadata": {},
   "outputs": [],
   "source": [
    "# Filter large, natural wildfires in 2016\n",
    "df_large_natural_2016 = df_large_natural[df_large_natural['datetime'].dt.year == 2016]"
   ]
  },
  {
   "cell_type": "code",
   "execution_count": null,
   "id": "c670669d",
   "metadata": {},
   "outputs": [],
   "source": [
    "# Find number of large fires in each year (i.e. number of rows in each year)\n",
    "large_fire_count = df_large.iloc[:,0].groupby(df_large_natural['datetime'].dt.year).count()"
   ]
  },
  {
   "cell_type": "code",
   "execution_count": null,
   "id": "ab2699eb",
   "metadata": {},
   "outputs": [],
   "source": [
    "# Find acres of wildfire for each year\n",
    "large_fire_area = df_large['FIRE_SIZE'].groupby(df_large_natural['datetime'].dt.year).sum()"
   ]
  },
  {
   "cell_type": "code",
   "execution_count": null,
   "id": "5c34c13f",
   "metadata": {},
   "outputs": [],
   "source": [
    "# Plot number and acres of wildfire for each year\n",
    "fig, (ax1, ax2) = plt.subplots(nrows=2, ncols=1, figsize=(10,8), sharex=True)\n",
    "ax1.plot(large_fire_count, lw=2)\n",
    "ax1.set_ylabel('Number of fires (>100 acres)', fontsize=14)\n",
    "ax1.tick_params(axis='x', labelsize=14)\n",
    "ax1.tick_params(axis='y', labelsize=14)\n",
    "ax1.grid(ls='dotted', lw=2, alpha=0.5)\n",
    "\n",
    "ax2.plot(large_fire_area, lw=2)\n",
    "ax2.set_ylabel('Area of fires (>100 acres)', fontsize=14)\n",
    "ax2.tick_params(axis='x', labelsize=14)\n",
    "ax2.tick_params(axis='y', labelsize=14)\n",
    "ax2.grid(ls='dotted', lw=2, alpha=0.5)"
   ]
  },
  {
   "cell_type": "code",
   "execution_count": null,
   "id": "fb2e15aa",
   "metadata": {},
   "outputs": [],
   "source": [
    "df_large = df[df['FIRE_SIZE'] > 50]"
   ]
  },
  {
   "cell_type": "code",
   "execution_count": null,
   "id": "da34878a",
   "metadata": {},
   "outputs": [],
   "source": [
    "df['FIPS_NAME'].describe()"
   ]
  },
  {
   "cell_type": "code",
   "execution_count": null,
   "id": "473fe5c0",
   "metadata": {},
   "outputs": [],
   "source": [
    "df_large['FIPS_NAME'].describe()"
   ]
  },
  {
   "cell_type": "code",
   "execution_count": null,
   "id": "c0409968",
   "metadata": {},
   "outputs": [],
   "source": [
    "df_large = df[df['FIRE_SIZE'] > 50]"
   ]
  },
  {
   "cell_type": "code",
   "execution_count": null,
   "id": "aba239d6",
   "metadata": {},
   "outputs": [],
   "source": [
    "df_large_natural = df_large[df_large['NWCG_CAUSE'] == 'Human']"
   ]
  },
  {
   "cell_type": "code",
   "execution_count": null,
   "id": "2ad501dc",
   "metadata": {},
   "outputs": [],
   "source": [
    "df_large['FIPS_NAME',].describe()"
   ]
  },
  {
   "cell_type": "code",
   "execution_count": null,
   "id": "8ab8005f",
   "metadata": {},
   "outputs": [],
   "source": [
    "df_large = df[df['FIRE_SIZE'] > 50]"
   ]
  },
  {
   "cell_type": "code",
   "execution_count": null,
   "id": "f45a3162",
   "metadata": {},
   "outputs": [],
   "source": [
    "df_large= df_large[df_large['NWCG_CAUSE'] == 'Human']"
   ]
  },
  {
   "cell_type": "code",
   "execution_count": null,
   "id": "fe30bae3",
   "metadata": {},
   "outputs": [],
   "source": [
    "df_large['FIPS_NAME'].describe()"
   ]
  },
  {
   "cell_type": "code",
   "execution_count": null,
   "id": "570ddf6e",
   "metadata": {},
   "outputs": [],
   "source": [
    "df_large = df[df['FIRE_SIZE'] > 100]"
   ]
  },
  {
   "cell_type": "code",
   "execution_count": null,
   "id": "55038a49",
   "metadata": {},
   "outputs": [],
   "source": [
    "df_large= df_large[df_large['NWCG_CAUSE'] == 'Natural']"
   ]
  },
  {
   "cell_type": "code",
   "execution_count": null,
   "id": "8dcbafca",
   "metadata": {},
   "outputs": [],
   "source": [
    "df_large['FIPS_NAME'].describe()"
   ]
  },
  {
   "cell_type": "code",
   "execution_count": null,
   "id": "e7f06134",
   "metadata": {},
   "outputs": [],
   "source": [
    "df_large['FIPS_NAME'].describe()"
   ]
  },
  {
   "cell_type": "code",
   "execution_count": null,
   "id": "d013fae7",
   "metadata": {},
   "outputs": [],
   "source": [
    "df_large = df[df['FIRE_SIZE'] > 100]"
   ]
  },
  {
   "cell_type": "code",
   "execution_count": null,
   "id": "264407f8",
   "metadata": {},
   "outputs": [],
   "source": [
    "df_large_natural = df_large[df_large['NWCG_CAUSE'] == 'Natural']"
   ]
  },
  {
   "cell_type": "code",
   "execution_count": null,
   "id": "4f77a8bc",
   "metadata": {},
   "outputs": [],
   "source": [
    "df_large_natural['CONT_DATE'].shape"
   ]
  },
  {
   "cell_type": "code",
   "execution_count": null,
   "id": "d840eba8",
   "metadata": {},
   "outputs": [],
   "source": [
    "df"
   ]
  },
  {
   "cell_type": "code",
   "execution_count": null,
   "id": "28cf4551",
   "metadata": {},
   "outputs": [],
   "source": [
    "df_large = df[df['FIRE_SIZE'] > 200]"
   ]
  },
  {
   "cell_type": "code",
   "execution_count": null,
   "id": "7748979a",
   "metadata": {},
   "outputs": [],
   "source": [
    "df_large= df_large[df_large['NWCG_CAUSE'] == 'Missing data/not specified/undetermined']"
   ]
  },
  {
   "cell_type": "code",
   "execution_count": null,
   "id": "91a48314",
   "metadata": {},
   "outputs": [],
   "source": [
    "df_large['FOD_ID'].describe()"
   ]
  },
  {
   "cell_type": "code",
   "execution_count": null,
   "id": "519c4497",
   "metadata": {},
   "outputs": [],
   "source": [
    "df_large = df[df['FIRE_SIZE'] > 200]"
   ]
  },
  {
   "cell_type": "code",
   "execution_count": null,
   "id": "4511d63a",
   "metadata": {},
   "outputs": [],
   "source": [
    "df_large= df_large[df_large['NWCG_CAUSE'] == 'Missing data/not specified/undetermined']"
   ]
  },
  {
   "cell_type": "code",
   "execution_count": null,
   "id": "a9c785be",
   "metadata": {},
   "outputs": [],
   "source": [
    "df_large['OBJECTID'].shape"
   ]
  },
  {
   "cell_type": "code",
   "execution_count": null,
   "id": "45fbc605",
   "metadata": {},
   "outputs": [],
   "source": [
    "df_large['FIRE_SIZE'].max ()"
   ]
  },
  {
   "cell_type": "code",
   "execution_count": null,
   "id": "b70bf806",
   "metadata": {},
   "outputs": [],
   "source": [
    "df_large['FIRE_SIZE'].max"
   ]
  },
  {
   "cell_type": "code",
   "execution_count": null,
   "id": "98210644",
   "metadata": {},
   "outputs": [],
   "source": [
    "df_large['FIRE_SIZE'].max()"
   ]
  },
  {
   "cell_type": "code",
   "execution_count": null,
   "id": "2c96a398",
   "metadata": {},
   "outputs": [],
   "source": [
    "df_large['FIRE_NAME'].describe"
   ]
  },
  {
   "cell_type": "code",
   "execution_count": null,
   "id": "3abc7968",
   "metadata": {},
   "outputs": [],
   "source": [
    "df_large['FIPS_NAME'].describe"
   ]
  },
  {
   "cell_type": "code",
   "execution_count": null,
   "id": "c37cf4f9",
   "metadata": {},
   "outputs": [],
   "source": [
    "df_large['DISCOVERY_'].describe"
   ]
  },
  {
   "cell_type": "code",
   "execution_count": null,
   "id": "7ad8b03d",
   "metadata": {},
   "outputs": [],
   "source": [
    "df_large['DISCOVERY_'].describe()"
   ]
  },
  {
   "cell_type": "code",
   "execution_count": null,
   "id": "3b14a4a3",
   "metadata": {},
   "outputs": [],
   "source": [
    "df_large[['DISCOVERY_','FIPS_NAME','FIRE_NAME']].describe()"
   ]
  },
  {
   "cell_type": "code",
   "execution_count": null,
   "id": "1bb7f5ee",
   "metadata": {},
   "outputs": [],
   "source": [
    "df_large['FIRE_SIZE'].max()\n",
    "df_large['FIRE_SIZE'].max()"
   ]
  },
  {
   "cell_type": "code",
   "execution_count": null,
   "id": "26310975",
   "metadata": {},
   "outputs": [],
   "source": [
    "df_large['FIRE_SIZE'].max()"
   ]
  },
  {
   "cell_type": "code",
   "execution_count": null,
   "id": "8ded87fb",
   "metadata": {},
   "outputs": [],
   "source": [
    "df_large[['DISCOVERY_','FIPS_NAME']].describe()"
   ]
  },
  {
   "cell_type": "code",
   "execution_count": null,
   "id": "041c92e7",
   "metadata": {},
   "outputs": [],
   "source": [
    "df_large['FIRE_SIZE'].max()"
   ]
  },
  {
   "cell_type": "code",
   "execution_count": null,
   "id": "14f3178d",
   "metadata": {},
   "outputs": [],
   "source": [
    "df_largest_fire=df_large['FIRE_SIZE'].max()"
   ]
  },
  {
   "cell_type": "code",
   "execution_count": null,
   "id": "aea1b506",
   "metadata": {},
   "outputs": [],
   "source": [
    "df_large['FIRE_SIZE'].max()\n",
    "df_largest_fire=df_large['FIRE_SIZE'].max()"
   ]
  },
  {
   "cell_type": "code",
   "execution_count": null,
   "id": "b02f2810",
   "metadata": {},
   "outputs": [],
   "source": [
    "df[df[\"FIRE_SIZE\"]==df[\"FIRE_SIZE\"].max()][['DISCOVERY_','FIRE_NAME','FIPS_NAME',\"FIRE_SIZE\"]]"
   ]
  },
  {
   "cell_type": "code",
   "execution_count": null,
   "id": "088371d6",
   "metadata": {},
   "outputs": [],
   "source": [
    "df_large = df[df['FIRE_SIZE'] > 50]"
   ]
  },
  {
   "cell_type": "code",
   "execution_count": null,
   "id": "3a60857a",
   "metadata": {},
   "outputs": [],
   "source": [
    "lane_county_fires = df_large[df_large['FIPS_NAME'] == 'Lane County']"
   ]
  },
  {
   "cell_type": "code",
   "execution_count": null,
   "id": "bc18833c",
   "metadata": {},
   "outputs": [],
   "source": [
    "lane_county_fires['OBJECTID'].shape"
   ]
  },
  {
   "cell_type": "code",
   "execution_count": null,
   "id": "081c459c",
   "metadata": {},
   "outputs": [],
   "source": [
    "# Import modules\n",
    "from cenpy import products\n",
    "import matplotlib.pyplot as plt\n",
    "\n",
    "# Define product\n",
    "acs = products.ACS(2019)"
   ]
  },
  {
   "cell_type": "code",
   "execution_count": 150,
   "id": "3e3c2f68",
   "metadata": {},
   "outputs": [
    {
     "data": {
      "text/html": [
       "<div>\n",
       "<style scoped>\n",
       "    .dataframe tbody tr th:only-of-type {\n",
       "        vertical-align: middle;\n",
       "    }\n",
       "\n",
       "    .dataframe tbody tr th {\n",
       "        vertical-align: top;\n",
       "    }\n",
       "\n",
       "    .dataframe thead th {\n",
       "        text-align: right;\n",
       "    }\n",
       "</style>\n",
       "<table border=\"1\" class=\"dataframe\">\n",
       "  <thead>\n",
       "    <tr style=\"text-align: right;\">\n",
       "      <th></th>\n",
       "      <th>description</th>\n",
       "      <th>columns</th>\n",
       "    </tr>\n",
       "    <tr>\n",
       "      <th>table_name</th>\n",
       "      <th></th>\n",
       "      <th></th>\n",
       "    </tr>\n",
       "  </thead>\n",
       "  <tbody>\n",
       "    <tr>\n",
       "      <th>B01003</th>\n",
       "      <td>TOTAL POPULATION</td>\n",
       "      <td>[B01003_001E]</td>\n",
       "    </tr>\n",
       "    <tr>\n",
       "      <th>B05006</th>\n",
       "      <td>PLACE OF BIRTH FOR THE FOREIGN-BORN POPULATION...</td>\n",
       "      <td>[B05006_001E, B05006_002E, B05006_003E, B05006...</td>\n",
       "    </tr>\n",
       "    <tr>\n",
       "      <th>B05007</th>\n",
       "      <td>PLACE OF BIRTH BY YEAR OF ENTRY BY CITIZENSHIP...</td>\n",
       "      <td>[B05007_001E, B05007_002E, B05007_003E, B05007...</td>\n",
       "    </tr>\n",
       "    <tr>\n",
       "      <th>B05008</th>\n",
       "      <td>SEX BY PLACE OF BIRTH BY YEAR OF ENTRY FOR THE...</td>\n",
       "      <td>[B05008_001E, B05008_002E, B05008_003E, B05008...</td>\n",
       "    </tr>\n",
       "    <tr>\n",
       "      <th>B05013</th>\n",
       "      <td>SEX BY AGE FOR THE FOREIGN-BORN POPULATION</td>\n",
       "      <td>[B05013_001E, B05013_002E, B05013_003E, B05013...</td>\n",
       "    </tr>\n",
       "    <tr>\n",
       "      <th>...</th>\n",
       "      <td>...</td>\n",
       "      <td>...</td>\n",
       "    </tr>\n",
       "    <tr>\n",
       "      <th>C24030</th>\n",
       "      <td>SEX BY INDUSTRY FOR THE CIVILIAN EMPLOYED POPU...</td>\n",
       "      <td>[C24030_001E, C24030_002E, C24030_003E, C24030...</td>\n",
       "    </tr>\n",
       "    <tr>\n",
       "      <th>C24040</th>\n",
       "      <td>SEX BY INDUSTRY FOR THE FULL-TIME, YEAR-ROUND ...</td>\n",
       "      <td>[C24040_001E, C24040_002E, C24040_003E, C24040...</td>\n",
       "    </tr>\n",
       "    <tr>\n",
       "      <th>C24050</th>\n",
       "      <td>INDUSTRY BY OCCUPATION FOR THE CIVILIAN  EMPLO...</td>\n",
       "      <td>[C24050_001E, C24050_002E, C24050_003E, C24050...</td>\n",
       "    </tr>\n",
       "    <tr>\n",
       "      <th>C24060</th>\n",
       "      <td>OCCUPATION BY CLASS OF WORKER FOR THE CIVILIAN...</td>\n",
       "      <td>[C24060_001E, C24060_002E, C24060_003E, C24060...</td>\n",
       "    </tr>\n",
       "    <tr>\n",
       "      <th>C24070</th>\n",
       "      <td>INDUSTRY BY CLASS OF WORKER FOR THE CIVILIAN E...</td>\n",
       "      <td>[C24070_001E, C24070_002E, C24070_003E, C24070...</td>\n",
       "    </tr>\n",
       "  </tbody>\n",
       "</table>\n",
       "<p>143 rows × 2 columns</p>\n",
       "</div>"
      ],
      "text/plain": [
       "                                                  description  \\\n",
       "table_name                                                      \n",
       "B01003                                       TOTAL POPULATION   \n",
       "B05006      PLACE OF BIRTH FOR THE FOREIGN-BORN POPULATION...   \n",
       "B05007      PLACE OF BIRTH BY YEAR OF ENTRY BY CITIZENSHIP...   \n",
       "B05008      SEX BY PLACE OF BIRTH BY YEAR OF ENTRY FOR THE...   \n",
       "B05013             SEX BY AGE FOR THE FOREIGN-BORN POPULATION   \n",
       "...                                                       ...   \n",
       "C24030      SEX BY INDUSTRY FOR THE CIVILIAN EMPLOYED POPU...   \n",
       "C24040      SEX BY INDUSTRY FOR THE FULL-TIME, YEAR-ROUND ...   \n",
       "C24050      INDUSTRY BY OCCUPATION FOR THE CIVILIAN  EMPLO...   \n",
       "C24060      OCCUPATION BY CLASS OF WORKER FOR THE CIVILIAN...   \n",
       "C24070      INDUSTRY BY CLASS OF WORKER FOR THE CIVILIAN E...   \n",
       "\n",
       "                                                      columns  \n",
       "table_name                                                     \n",
       "B01003                                          [B01003_001E]  \n",
       "B05006      [B05006_001E, B05006_002E, B05006_003E, B05006...  \n",
       "B05007      [B05007_001E, B05007_002E, B05007_003E, B05007...  \n",
       "B05008      [B05008_001E, B05008_002E, B05008_003E, B05008...  \n",
       "B05013      [B05013_001E, B05013_002E, B05013_003E, B05013...  \n",
       "...                                                       ...  \n",
       "C24030      [C24030_001E, C24030_002E, C24030_003E, C24030...  \n",
       "C24040      [C24040_001E, C24040_002E, C24040_003E, C24040...  \n",
       "C24050      [C24050_001E, C24050_002E, C24050_003E, C24050...  \n",
       "C24060      [C24060_001E, C24060_002E, C24060_003E, C24060...  \n",
       "C24070      [C24070_001E, C24070_002E, C24070_003E, C24070...  \n",
       "\n",
       "[143 rows x 2 columns]"
      ]
     },
     "execution_count": 150,
     "metadata": {},
     "output_type": "execute_result"
    }
   ],
   "source": [
    "# Print list of tables\n",
    "acs.filter_tables('POPULATION', by='description')"
   ]
  },
  {
   "cell_type": "code",
   "execution_count": 151,
   "id": "069bdf2c",
   "metadata": {},
   "outputs": [
    {
     "data": {
      "text/html": [
       "<div>\n",
       "<style scoped>\n",
       "    .dataframe tbody tr th:only-of-type {\n",
       "        vertical-align: middle;\n",
       "    }\n",
       "\n",
       "    .dataframe tbody tr th {\n",
       "        vertical-align: top;\n",
       "    }\n",
       "\n",
       "    .dataframe thead th {\n",
       "        text-align: right;\n",
       "    }\n",
       "</style>\n",
       "<table border=\"1\" class=\"dataframe\">\n",
       "  <thead>\n",
       "    <tr style=\"text-align: right;\">\n",
       "      <th></th>\n",
       "      <th>label</th>\n",
       "      <th>concept</th>\n",
       "      <th>predicateType</th>\n",
       "      <th>group</th>\n",
       "      <th>limit</th>\n",
       "      <th>predicateOnly</th>\n",
       "      <th>attributes</th>\n",
       "      <th>required</th>\n",
       "    </tr>\n",
       "  </thead>\n",
       "  <tbody>\n",
       "    <tr>\n",
       "      <th>B01003_001E</th>\n",
       "      <td>Estimate!!Total</td>\n",
       "      <td>TOTAL POPULATION</td>\n",
       "      <td>int</td>\n",
       "      <td>B01003</td>\n",
       "      <td>0</td>\n",
       "      <td>NaN</td>\n",
       "      <td>B01003_001EA,B01003_001M,B01003_001MA</td>\n",
       "      <td>NaN</td>\n",
       "    </tr>\n",
       "  </tbody>\n",
       "</table>\n",
       "</div>"
      ],
      "text/plain": [
       "                       label           concept predicateType   group limit  \\\n",
       "B01003_001E  Estimate!!Total  TOTAL POPULATION           int  B01003     0   \n",
       "\n",
       "            predicateOnly                             attributes required  \n",
       "B01003_001E           NaN  B01003_001EA,B01003_001M,B01003_001MA      NaN  "
      ]
     },
     "execution_count": 151,
     "metadata": {},
     "output_type": "execute_result"
    }
   ],
   "source": [
    "# Print list of variables\n",
    "acs.filter_variables('B01003')"
   ]
  },
  {
   "cell_type": "code",
   "execution_count": 153,
   "id": "788e6784",
   "metadata": {},
   "outputs": [
    {
     "name": "stderr",
     "output_type": "stream",
     "text": [
      "/opt/anaconda3/envs/lab2/lib/python3.8/site-packages/pyproj/crs/crs.py:131: FutureWarning: '+init=<authority>:<code>' syntax is deprecated. '<authority>:<code>' is the preferred initialization method. When making the change, be mindful of axis order changes: https://pyproj4.github.io/pyproj/stable/gotchas.html#axis-order-changes-in-proj-6\n",
      "  in_crs_string = _prepare_from_proj_string(in_crs_string)\n",
      "/opt/anaconda3/envs/lab2/lib/python3.8/site-packages/pyproj/crs/crs.py:131: FutureWarning: '+init=<authority>:<code>' syntax is deprecated. '<authority>:<code>' is the preferred initialization method. When making the change, be mindful of axis order changes: https://pyproj4.github.io/pyproj/stable/gotchas.html#axis-order-changes-in-proj-6\n",
      "  in_crs_string = _prepare_from_proj_string(in_crs_string)\n",
      "/opt/anaconda3/envs/lab2/lib/python3.8/site-packages/cenpy/products.py:762: FutureWarning: The `op` parameter is deprecated and will be removed in a future release. Please use the `predicate` parameter instead.\n",
      "  return self._from_name(county, variables, level, \"Counties\", **kwargs)\n"
     ]
    }
   ],
   "source": [
    "# Download data\n",
    "lane_pop = products.ACS(2019).from_county('Lane County, OR', level='tract',\n",
    "                                        variables=['B01003_001E']) # don't worry about the deprecation message!"
   ]
  },
  {
   "cell_type": "code",
   "execution_count": 154,
   "id": "c1117f52",
   "metadata": {},
   "outputs": [
    {
     "data": {
      "text/plain": [
       "count      87.000000\n",
       "mean     4291.264368\n",
       "std      1506.689737\n",
       "min         0.000000\n",
       "25%      3287.500000\n",
       "50%      4068.000000\n",
       "75%      5205.000000\n",
       "max      8932.000000\n",
       "Name: B01003_001E, dtype: float64"
      ]
     },
     "execution_count": 154,
     "metadata": {},
     "output_type": "execute_result"
    }
   ],
   "source": [
    "# Calculate some stats\n",
    "lane_pop['B01003_001E'].describe()"
   ]
  },
  {
   "cell_type": "code",
   "execution_count": 157,
   "id": "4da97f7a",
   "metadata": {},
   "outputs": [
    {
     "data": {
      "text/plain": [
       "<AxesSubplot:>"
      ]
     },
     "execution_count": 157,
     "metadata": {},
     "output_type": "execute_result"
    },
    {
     "data": {
      "image/png": "[encoded data removed]",
      "text/plain": [
       "<Figure size 720x720 with 1 Axes>"
      ]
     },
     "metadata": {
      "needs_background": "light"
     },
     "output_type": "display_data"
    }
   ],
   "source": [
    "# Plot map\n",
    "f, ax = plt.subplots(1, 1, figsize=(10,10))\n",
    "lane_pop.plot('B01003_001E', ax=ax, cmap='plasma')"
   ]
  },
  {
   "cell_type": "code",
   "execution_count": 160,
   "id": "400097e0",
   "metadata": {},
   "outputs": [
    {
     "data": {
      "text/plain": [
       "<AxesSubplot:>"
      ]
     },
     "execution_count": 160,
     "metadata": {},
     "output_type": "execute_result"
    },
    {
     "data": {
      "image/png": "[encoded data removed]",
      "text/plain": [
       "<Figure size 720x720 with 2 Axes>"
      ]
     },
     "metadata": {
      "needs_background": "light"
     },
     "output_type": "display_data"
    }
   ],
   "source": [
    "lane_pop['pop_density'] = lane_pop['B01003_001E'] / lane_pop['geometry'].area\n",
    "\n",
    "from mpl_toolkits.axes_grid1 import make_axes_locatable\n",
    "\n",
    "# Plot map\n",
    "f, ax = plt.subplots(1, 1, figsize=(10,10))\n",
    "\n",
    "# These two lines make the colorbar the same size as the axes.\n",
    "divider = make_axes_locatable(ax)\n",
    "cax = divider.append_axes(\"right\", size=\"5%\", pad=0.1)\n",
    "\n",
    "lane_pop.plot('pop_density', ax=ax, cmap='plasma', legend=True, cax=cax)"
   ]
  },
  {
   "cell_type": "code",
   "execution_count": 161,
   "id": "f423b1ec",
   "metadata": {},
   "outputs": [
    {
     "data": {
      "text/plain": [
       "<Derived Projected CRS: EPSG:3857>\n",
       "Name: WGS 84 / Pseudo-Mercator\n",
       "Axis Info [cartesian]:\n",
       "- E[east]: Easting (metre)\n",
       "- N[north]: Northing (metre)\n",
       "Area of Use:\n",
       "- name: World between 85.06°S and 85.06°N.\n",
       "- bounds: (-180.0, -85.06, 180.0, 85.06)\n",
       "Coordinate Operation:\n",
       "- name: Popular Visualisation Pseudo-Mercator\n",
       "- method: Popular Visualisation Pseudo Mercator\n",
       "Datum: World Geodetic System 1984 ensemble\n",
       "- Ellipsoid: WGS 84\n",
       "- Prime Meridian: Greenwich"
      ]
     },
     "execution_count": 161,
     "metadata": {},
     "output_type": "execute_result"
    }
   ],
   "source": [
    "lane_pop.crs"
   ]
  },
  {
   "cell_type": "code",
   "execution_count": 162,
   "id": "13359fd7",
   "metadata": {},
   "outputs": [
    {
     "data": {
      "text/plain": [
       "<Geographic 2D CRS: EPSG:4326>\n",
       "Name: WGS 84\n",
       "Axis Info [ellipsoidal]:\n",
       "- Lat[north]: Geodetic latitude (degree)\n",
       "- Lon[east]: Geodetic longitude (degree)\n",
       "Area of Use:\n",
       "- name: World.\n",
       "- bounds: (-180.0, -90.0, 180.0, 90.0)\n",
       "Datum: World Geodetic System 1984 ensemble\n",
       "- Ellipsoid: WGS 84\n",
       "- Prime Meridian: Greenwich"
      ]
     },
     "execution_count": 162,
     "metadata": {},
     "output_type": "execute_result"
    }
   ],
   "source": [
    "# Make \n",
    "df_large = df[df['FIRE_SIZE'] > 100]\n",
    "lane_fires = df_large[df_large['FIPS_NAME'] == 'Lane County']\n",
    "lane_fires.crs"
   ]
  },
  {
   "cell_type": "code",
   "execution_count": 163,
   "id": "960ab54a",
   "metadata": {},
   "outputs": [
    {
     "data": {
      "text/plain": [
       "<Derived Projected CRS: EPSG:3857>\n",
       "Name: WGS 84 / Pseudo-Mercator\n",
       "Axis Info [cartesian]:\n",
       "- X[east]: Easting (metre)\n",
       "- Y[north]: Northing (metre)\n",
       "Area of Use:\n",
       "- name: World between 85.06°S and 85.06°N.\n",
       "- bounds: (-180.0, -85.06, 180.0, 85.06)\n",
       "Coordinate Operation:\n",
       "- name: Popular Visualisation Pseudo-Mercator\n",
       "- method: Popular Visualisation Pseudo Mercator\n",
       "Datum: World Geodetic System 1984 ensemble\n",
       "- Ellipsoid: WGS 84\n",
       "- Prime Meridian: Greenwich"
      ]
     },
     "execution_count": 163,
     "metadata": {},
     "output_type": "execute_result"
    }
   ],
   "source": [
    "lane_fires_proj = lane_fires.to_crs('EPSG:3857')\n",
    "lane_fires_proj.crs"
   ]
  },
  {
   "cell_type": "code",
   "execution_count": 165,
   "id": "5f4d324a",
   "metadata": {},
   "outputs": [
    {
     "data": {
      "text/plain": [
       "<AxesSubplot:>"
      ]
     },
     "execution_count": 165,
     "metadata": {},
     "output_type": "execute_result"
    },
    {
     "data": {
      "image/png": "[encoded data removed]",
      "text/plain": [
       "<Figure size 720x720 with 2 Axes>"
      ]
     },
     "metadata": {
      "needs_background": "light"
     },
     "output_type": "display_data"
    }
   ],
   "source": [
    "# Plot map\n",
    "f, ax = plt.subplots(1, 1, figsize=(10,10))\n",
    "\n",
    "# These two lines make the colorbar the same size as the axes.\n",
    "divider = make_axes_locatable(ax)\n",
    "cax = divider.append_axes(\"right\", size=\"5%\", pad=0.1)\n",
    "\n",
    "lane_pop.plot('pop_density', ax=ax, cmap='plasma', legend=True, cax=cax)\n",
    "lane_fires_proj.plot(ax=ax, c='white')"
   ]
  },
  {
   "cell_type": "code",
   "execution_count": 170,
   "id": "c305eec5",
   "metadata": {},
   "outputs": [
    {
     "data": {
      "text/plain": [
       "<AxesSubplot:>"
      ]
     },
     "execution_count": 170,
     "metadata": {},
     "output_type": "execute_result"
    },
    {
     "data": {
      "image/png": "[encoded data removed]",
      "text/plain": [
       "<Figure size 720x720 with 2 Axes>"
      ]
     },
     "metadata": {
      "needs_background": "light"
     },
     "output_type": "display_data"
    }
   ],
   "source": [
    "# Spatial join\n",
    "joined_df = gpd.sjoin(lane_fires_proj, lane_pop, how='inner', predicate='intersects')\n",
    "\n",
    "# Groupby tract\n",
    "tract_count = joined_df.groupby(['tract'], as_index=False)['OBJECTID'].count()\n",
    "tract_count.columns = ['tract', 'fire_count']\n",
    "\n",
    "# Merge back to original DataFrame\n",
    "merged_df = lane_pop.merge(tract_count, on='tract', how='left')\n",
    "\n",
    "# Clean up data by filling NaNs with 0\n",
    "merged_df['fire_count'].fillna(0, inplace=True)  \n",
    "\n",
    "# Plot map\n",
    "f, ax = plt.subplots(1, 1, figsize=(10,10))\n",
    "divider = make_axes_locatable(ax)\n",
    "cax = divider.append_axes(\"right\", size=\"5%\", pad=0.1)\n",
    "merged_df.plot('fire_count', ax=ax, cmap='plasma', legend=True, cax=cax)"
   ]
  },
  {
   "cell_type": "code",
   "execution_count": null,
   "id": "d2056f1a",
   "metadata": {},
   "outputs": [],
   "source": [
    "# Download data - showing number of web developers\n",
    "Oregon_pop = products.ACS(2019).from_state('Oregon', level='county',\n",
    "                                        variables=['B24121_070E']) # don't worry about the deprecation message!"
   ]
  },
  {
   "cell_type": "code",
   "execution_count": null,
   "id": "8607e2d6",
   "metadata": {},
   "outputs": [],
   "source": []
  },
  {
   "cell_type": "code",
   "execution_count": null,
   "id": "fc0e659f",
   "metadata": {},
   "outputs": [],
   "source": []
  }
 ],
 "metadata": {
  "kernelspec": {
   "display_name": "Python 3 (ipykernel)",
   "language": "python",
   "name": "python3"
  },
  "language_info": {
   "codemirror_mode": {
    "name": "ipython",
    "version": 3
   },
   "file_extension": ".py",
   "mimetype": "text/x-python",
   "name": "python",
   "nbconvert_exporter": "python",
   "pygments_lexer": "ipython3",
   "version": "3.8.12"
  }
 },
 "nbformat": 4,
 "nbformat_minor": 5
}
